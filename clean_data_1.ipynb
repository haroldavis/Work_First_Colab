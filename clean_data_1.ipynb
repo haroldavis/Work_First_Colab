{
  "cells": [
    {
      "cell_type": "markdown",
      "metadata": {
        "id": "view-in-github",
        "colab_type": "text"
      },
      "source": [
        "<a href=\"https://colab.research.google.com/github/haroldavis/Work_First_Colab/blob/main/clean_data_1.ipynb\" target=\"_parent\"><img src=\"https://colab.research.google.com/assets/colab-badge.svg\" alt=\"Open In Colab\"/></a>"
      ]
    },
    {
      "cell_type": "markdown",
      "source": [
        "# My first Colab\n",
        "\n",
        "I will use Colab for class about data clean, following my path of Data Science. 🥳"
      ],
      "metadata": {
        "id": "lpFsysDf8rNa"
      }
    },
    {
      "cell_type": "markdown",
      "source": [
        "#I import libraries for my workspace"
      ],
      "metadata": {
        "id": "cwLuiUSx9kbB"
      }
    },
    {
      "cell_type": "code",
      "execution_count": 1,
      "metadata": {
        "id": "oVnUfHHEoesb"
      },
      "outputs": [],
      "source": [
        "import numpy as np\n",
        "import pandas as pd"
      ]
    },
    {
      "cell_type": "markdown",
      "source": [
        "#I import tools of google"
      ],
      "metadata": {
        "id": "N9Ei49tu_ZLs"
      }
    },
    {
      "cell_type": "code",
      "execution_count": 2,
      "metadata": {
        "colab": {
          "base_uri": "https://localhost:8080/"
        },
        "id": "-Z9I6V04tQuZ",
        "outputId": "7d5ef6a2-f816-42f3-bcdf-18636f0dc6fd"
      },
      "outputs": [
        {
          "output_type": "stream",
          "name": "stdout",
          "text": [
            "Drive already mounted at /content/drive; to attempt to forcibly remount, call drive.mount(\"/content/drive\", force_remount=True).\n"
          ]
        }
      ],
      "source": [
        "from google.colab import drive\n",
        "drive.mount('/content/drive')"
      ]
    },
    {
      "cell_type": "markdown",
      "source": [
        "# I initial my dataset with _imdb_"
      ],
      "metadata": {
        "id": "RSqep8W-_kM0"
      }
    },
    {
      "cell_type": "code",
      "execution_count": 3,
      "metadata": {
        "id": "-ofMD0-Ytt1e"
      },
      "outputs": [],
      "source": [
        "imdb = pd.read_csv('/content/drive/MyDrive/Colab Notebooks/Clase 1 - Limpieza datos/datasets/IMDB.csv')"
      ]
    },
    {
      "cell_type": "markdown",
      "source": [
        "#Create a copy for start to manipulate the dataset"
      ],
      "metadata": {
        "id": "HRCnwDXhAGud"
      }
    },
    {
      "cell_type": "code",
      "execution_count": 4,
      "metadata": {
        "id": "UzYam2Fl_NQf"
      },
      "outputs": [],
      "source": [
        "imdb2 = imdb.copy()"
      ]
    },
    {
      "cell_type": "code",
      "source": [
        "#I check to first info of dataset\n",
        "imdb2.info()#I have 97 rows"
      ],
      "metadata": {
        "colab": {
          "base_uri": "https://localhost:8080/"
        },
        "id": "G--J7kd9ApMt",
        "outputId": "5ef145f1-48e9-4339-e5fc-c657235190cc"
      },
      "execution_count": null,
      "outputs": [
        {
          "output_type": "stream",
          "name": "stdout",
          "text": [
            "<class 'pandas.core.frame.DataFrame'>\n",
            "RangeIndex: 97 entries, 0 to 96\n",
            "Data columns (total 13 columns):\n",
            " #   Column                Non-Null Count  Dtype  \n",
            "---  ------                --------------  -----  \n",
            " 0   color                 86 non-null     object \n",
            " 1   director_name         86 non-null     object \n",
            " 2   duration              97 non-null     int64  \n",
            " 3   gross                 89 non-null     float64\n",
            " 4   genres                96 non-null     object \n",
            " 5   movie_title           97 non-null     object \n",
            " 6   title_year            97 non-null     int64  \n",
            " 7   language              97 non-null     object \n",
            " 8   country               97 non-null     object \n",
            " 9   budget                93 non-null     float64\n",
            " 10  imdb_score            97 non-null     float64\n",
            " 11  actors                97 non-null     object \n",
            " 12  movie_facebook_likes  97 non-null     int64  \n",
            "dtypes: float64(3), int64(3), object(7)\n",
            "memory usage: 10.0+ KB\n"
          ]
        }
      ]
    },
    {
      "cell_type": "code",
      "execution_count": 5,
      "metadata": {
        "id": "37EqbqYeD6-I",
        "colab": {
          "base_uri": "https://localhost:8080/",
          "height": 553
        },
        "outputId": "5ede66dd-e8e1-43db-ba68-cb1f8c6a34d1"
      },
      "outputs": [
        {
          "output_type": "execute_result",
          "data": {
            "text/plain": [
              "    color      director_name  duration        gross  \\\n",
              "9   Color        Joss Whedon       173  623279547.0   \n",
              "20  Color         Tom Hooper       158  148775460.0   \n",
              "29  Color       Ridley Scott       150   65007045.0   \n",
              "51  Color         Sam Mendes       143  304360277.0   \n",
              "53  Color       Baz Luhrmann       143  144812796.0   \n",
              "61  Color  Timur Bekmambetov       141          NaN   \n",
              "\n",
              "                       genres             movie_title  title_year language  \\\n",
              "9     Action|Adventure|Sci-Fi            The Avengers        2012  English   \n",
              "20      Drama|Musical|Romance          Les Misérables        2012  English   \n",
              "29     Action|Adventure|Drama  Exodus: Gods and Kings        2014  English   \n",
              "51  Action|Adventure|Thriller                 Skyfall        2012  English   \n",
              "53              Drama|Romance        The Great Gatsby        2013  English   \n",
              "61    Adventure|Drama|History                 Ben-Hur        2016  English   \n",
              "\n",
              "      country       budget  imdb_score  \\\n",
              "9         USA  220000000.0         8.1   \n",
              "20        USA   61000000.0         7.6   \n",
              "29         UK  140000000.0         6.1   \n",
              "51         UK  200000000.0         7.8   \n",
              "53  Australia  105000000.0         7.3   \n",
              "61        USA  100000000.0         6.1   \n",
              "\n",
              "                                               actors  movie_facebook_likes  \n",
              "9   Chris Hemsworth,Robert Downey Jr.,Scarlett Joh...                123000  \n",
              "20          Hugh Jackman,Eddie Redmayne,Anne Hathaway                144000  \n",
              "29       Christian Bale,María Valverde,Ben Mendelsohn                 51000  \n",
              "51           Albert Finney,Helen McCrory,Rory Kinnear                 80000  \n",
              "53   Leonardo DiCaprio,Elizabeth Debicki,Steve Bisley                115000  \n",
              "61           Morgan Freeman,Ayelet Zurer,Moises Arias                     0  "
            ],
            "text/html": [
              "\n",
              "  <div id=\"df-7de6e056-9ecb-4307-b29c-3b67779e4bc1\" class=\"colab-df-container\">\n",
              "    <div>\n",
              "<style scoped>\n",
              "    .dataframe tbody tr th:only-of-type {\n",
              "        vertical-align: middle;\n",
              "    }\n",
              "\n",
              "    .dataframe tbody tr th {\n",
              "        vertical-align: top;\n",
              "    }\n",
              "\n",
              "    .dataframe thead th {\n",
              "        text-align: right;\n",
              "    }\n",
              "</style>\n",
              "<table border=\"1\" class=\"dataframe\">\n",
              "  <thead>\n",
              "    <tr style=\"text-align: right;\">\n",
              "      <th></th>\n",
              "      <th>color</th>\n",
              "      <th>director_name</th>\n",
              "      <th>duration</th>\n",
              "      <th>gross</th>\n",
              "      <th>genres</th>\n",
              "      <th>movie_title</th>\n",
              "      <th>title_year</th>\n",
              "      <th>language</th>\n",
              "      <th>country</th>\n",
              "      <th>budget</th>\n",
              "      <th>imdb_score</th>\n",
              "      <th>actors</th>\n",
              "      <th>movie_facebook_likes</th>\n",
              "    </tr>\n",
              "  </thead>\n",
              "  <tbody>\n",
              "    <tr>\n",
              "      <th>9</th>\n",
              "      <td>Color</td>\n",
              "      <td>Joss Whedon</td>\n",
              "      <td>173</td>\n",
              "      <td>623279547.0</td>\n",
              "      <td>Action|Adventure|Sci-Fi</td>\n",
              "      <td>The Avengers</td>\n",
              "      <td>2012</td>\n",
              "      <td>English</td>\n",
              "      <td>USA</td>\n",
              "      <td>220000000.0</td>\n",
              "      <td>8.1</td>\n",
              "      <td>Chris Hemsworth,Robert Downey Jr.,Scarlett Joh...</td>\n",
              "      <td>123000</td>\n",
              "    </tr>\n",
              "    <tr>\n",
              "      <th>20</th>\n",
              "      <td>Color</td>\n",
              "      <td>Tom Hooper</td>\n",
              "      <td>158</td>\n",
              "      <td>148775460.0</td>\n",
              "      <td>Drama|Musical|Romance</td>\n",
              "      <td>Les Misérables</td>\n",
              "      <td>2012</td>\n",
              "      <td>English</td>\n",
              "      <td>USA</td>\n",
              "      <td>61000000.0</td>\n",
              "      <td>7.6</td>\n",
              "      <td>Hugh Jackman,Eddie Redmayne,Anne Hathaway</td>\n",
              "      <td>144000</td>\n",
              "    </tr>\n",
              "    <tr>\n",
              "      <th>29</th>\n",
              "      <td>Color</td>\n",
              "      <td>Ridley Scott</td>\n",
              "      <td>150</td>\n",
              "      <td>65007045.0</td>\n",
              "      <td>Action|Adventure|Drama</td>\n",
              "      <td>Exodus: Gods and Kings</td>\n",
              "      <td>2014</td>\n",
              "      <td>English</td>\n",
              "      <td>UK</td>\n",
              "      <td>140000000.0</td>\n",
              "      <td>6.1</td>\n",
              "      <td>Christian Bale,María Valverde,Ben Mendelsohn</td>\n",
              "      <td>51000</td>\n",
              "    </tr>\n",
              "    <tr>\n",
              "      <th>51</th>\n",
              "      <td>Color</td>\n",
              "      <td>Sam Mendes</td>\n",
              "      <td>143</td>\n",
              "      <td>304360277.0</td>\n",
              "      <td>Action|Adventure|Thriller</td>\n",
              "      <td>Skyfall</td>\n",
              "      <td>2012</td>\n",
              "      <td>English</td>\n",
              "      <td>UK</td>\n",
              "      <td>200000000.0</td>\n",
              "      <td>7.8</td>\n",
              "      <td>Albert Finney,Helen McCrory,Rory Kinnear</td>\n",
              "      <td>80000</td>\n",
              "    </tr>\n",
              "    <tr>\n",
              "      <th>53</th>\n",
              "      <td>Color</td>\n",
              "      <td>Baz Luhrmann</td>\n",
              "      <td>143</td>\n",
              "      <td>144812796.0</td>\n",
              "      <td>Drama|Romance</td>\n",
              "      <td>The Great Gatsby</td>\n",
              "      <td>2013</td>\n",
              "      <td>English</td>\n",
              "      <td>Australia</td>\n",
              "      <td>105000000.0</td>\n",
              "      <td>7.3</td>\n",
              "      <td>Leonardo DiCaprio,Elizabeth Debicki,Steve Bisley</td>\n",
              "      <td>115000</td>\n",
              "    </tr>\n",
              "    <tr>\n",
              "      <th>61</th>\n",
              "      <td>Color</td>\n",
              "      <td>Timur Bekmambetov</td>\n",
              "      <td>141</td>\n",
              "      <td>NaN</td>\n",
              "      <td>Adventure|Drama|History</td>\n",
              "      <td>Ben-Hur</td>\n",
              "      <td>2016</td>\n",
              "      <td>English</td>\n",
              "      <td>USA</td>\n",
              "      <td>100000000.0</td>\n",
              "      <td>6.1</td>\n",
              "      <td>Morgan Freeman,Ayelet Zurer,Moises Arias</td>\n",
              "      <td>0</td>\n",
              "    </tr>\n",
              "  </tbody>\n",
              "</table>\n",
              "</div>\n",
              "    <div class=\"colab-df-buttons\">\n",
              "\n",
              "  <div class=\"colab-df-container\">\n",
              "    <button class=\"colab-df-convert\" onclick=\"convertToInteractive('df-7de6e056-9ecb-4307-b29c-3b67779e4bc1')\"\n",
              "            title=\"Convert this dataframe to an interactive table.\"\n",
              "            style=\"display:none;\">\n",
              "\n",
              "  <svg xmlns=\"http://www.w3.org/2000/svg\" height=\"24px\" viewBox=\"0 -960 960 960\">\n",
              "    <path d=\"M120-120v-720h720v720H120Zm60-500h600v-160H180v160Zm220 220h160v-160H400v160Zm0 220h160v-160H400v160ZM180-400h160v-160H180v160Zm440 0h160v-160H620v160ZM180-180h160v-160H180v160Zm440 0h160v-160H620v160Z\"/>\n",
              "  </svg>\n",
              "    </button>\n",
              "\n",
              "  <style>\n",
              "    .colab-df-container {\n",
              "      display:flex;\n",
              "      gap: 12px;\n",
              "    }\n",
              "\n",
              "    .colab-df-convert {\n",
              "      background-color: #E8F0FE;\n",
              "      border: none;\n",
              "      border-radius: 50%;\n",
              "      cursor: pointer;\n",
              "      display: none;\n",
              "      fill: #1967D2;\n",
              "      height: 32px;\n",
              "      padding: 0 0 0 0;\n",
              "      width: 32px;\n",
              "    }\n",
              "\n",
              "    .colab-df-convert:hover {\n",
              "      background-color: #E2EBFA;\n",
              "      box-shadow: 0px 1px 2px rgba(60, 64, 67, 0.3), 0px 1px 3px 1px rgba(60, 64, 67, 0.15);\n",
              "      fill: #174EA6;\n",
              "    }\n",
              "\n",
              "    .colab-df-buttons div {\n",
              "      margin-bottom: 4px;\n",
              "    }\n",
              "\n",
              "    [theme=dark] .colab-df-convert {\n",
              "      background-color: #3B4455;\n",
              "      fill: #D2E3FC;\n",
              "    }\n",
              "\n",
              "    [theme=dark] .colab-df-convert:hover {\n",
              "      background-color: #434B5C;\n",
              "      box-shadow: 0px 1px 3px 1px rgba(0, 0, 0, 0.15);\n",
              "      filter: drop-shadow(0px 1px 2px rgba(0, 0, 0, 0.3));\n",
              "      fill: #FFFFFF;\n",
              "    }\n",
              "  </style>\n",
              "\n",
              "    <script>\n",
              "      const buttonEl =\n",
              "        document.querySelector('#df-7de6e056-9ecb-4307-b29c-3b67779e4bc1 button.colab-df-convert');\n",
              "      buttonEl.style.display =\n",
              "        google.colab.kernel.accessAllowed ? 'block' : 'none';\n",
              "\n",
              "      async function convertToInteractive(key) {\n",
              "        const element = document.querySelector('#df-7de6e056-9ecb-4307-b29c-3b67779e4bc1');\n",
              "        const dataTable =\n",
              "          await google.colab.kernel.invokeFunction('convertToInteractive',\n",
              "                                                    [key], {});\n",
              "        if (!dataTable) return;\n",
              "\n",
              "        const docLinkHtml = 'Like what you see? Visit the ' +\n",
              "          '<a target=\"_blank\" href=https://colab.research.google.com/notebooks/data_table.ipynb>data table notebook</a>'\n",
              "          + ' to learn more about interactive tables.';\n",
              "        element.innerHTML = '';\n",
              "        dataTable['output_type'] = 'display_data';\n",
              "        await google.colab.output.renderOutput(dataTable, element);\n",
              "        const docLink = document.createElement('div');\n",
              "        docLink.innerHTML = docLinkHtml;\n",
              "        element.appendChild(docLink);\n",
              "      }\n",
              "    </script>\n",
              "  </div>\n",
              "\n",
              "\n",
              "<div id=\"df-6a60d2d6-36f1-47a5-baaa-081343e0a6a1\">\n",
              "  <button class=\"colab-df-quickchart\" onclick=\"quickchart('df-6a60d2d6-36f1-47a5-baaa-081343e0a6a1')\"\n",
              "            title=\"Suggest charts\"\n",
              "            style=\"display:none;\">\n",
              "\n",
              "<svg xmlns=\"http://www.w3.org/2000/svg\" height=\"24px\"viewBox=\"0 0 24 24\"\n",
              "     width=\"24px\">\n",
              "    <g>\n",
              "        <path d=\"M19 3H5c-1.1 0-2 .9-2 2v14c0 1.1.9 2 2 2h14c1.1 0 2-.9 2-2V5c0-1.1-.9-2-2-2zM9 17H7v-7h2v7zm4 0h-2V7h2v10zm4 0h-2v-4h2v4z\"/>\n",
              "    </g>\n",
              "</svg>\n",
              "  </button>\n",
              "\n",
              "<style>\n",
              "  .colab-df-quickchart {\n",
              "      --bg-color: #E8F0FE;\n",
              "      --fill-color: #1967D2;\n",
              "      --hover-bg-color: #E2EBFA;\n",
              "      --hover-fill-color: #174EA6;\n",
              "      --disabled-fill-color: #AAA;\n",
              "      --disabled-bg-color: #DDD;\n",
              "  }\n",
              "\n",
              "  [theme=dark] .colab-df-quickchart {\n",
              "      --bg-color: #3B4455;\n",
              "      --fill-color: #D2E3FC;\n",
              "      --hover-bg-color: #434B5C;\n",
              "      --hover-fill-color: #FFFFFF;\n",
              "      --disabled-bg-color: #3B4455;\n",
              "      --disabled-fill-color: #666;\n",
              "  }\n",
              "\n",
              "  .colab-df-quickchart {\n",
              "    background-color: var(--bg-color);\n",
              "    border: none;\n",
              "    border-radius: 50%;\n",
              "    cursor: pointer;\n",
              "    display: none;\n",
              "    fill: var(--fill-color);\n",
              "    height: 32px;\n",
              "    padding: 0;\n",
              "    width: 32px;\n",
              "  }\n",
              "\n",
              "  .colab-df-quickchart:hover {\n",
              "    background-color: var(--hover-bg-color);\n",
              "    box-shadow: 0 1px 2px rgba(60, 64, 67, 0.3), 0 1px 3px 1px rgba(60, 64, 67, 0.15);\n",
              "    fill: var(--button-hover-fill-color);\n",
              "  }\n",
              "\n",
              "  .colab-df-quickchart-complete:disabled,\n",
              "  .colab-df-quickchart-complete:disabled:hover {\n",
              "    background-color: var(--disabled-bg-color);\n",
              "    fill: var(--disabled-fill-color);\n",
              "    box-shadow: none;\n",
              "  }\n",
              "\n",
              "  .colab-df-spinner {\n",
              "    border: 2px solid var(--fill-color);\n",
              "    border-color: transparent;\n",
              "    border-bottom-color: var(--fill-color);\n",
              "    animation:\n",
              "      spin 1s steps(1) infinite;\n",
              "  }\n",
              "\n",
              "  @keyframes spin {\n",
              "    0% {\n",
              "      border-color: transparent;\n",
              "      border-bottom-color: var(--fill-color);\n",
              "      border-left-color: var(--fill-color);\n",
              "    }\n",
              "    20% {\n",
              "      border-color: transparent;\n",
              "      border-left-color: var(--fill-color);\n",
              "      border-top-color: var(--fill-color);\n",
              "    }\n",
              "    30% {\n",
              "      border-color: transparent;\n",
              "      border-left-color: var(--fill-color);\n",
              "      border-top-color: var(--fill-color);\n",
              "      border-right-color: var(--fill-color);\n",
              "    }\n",
              "    40% {\n",
              "      border-color: transparent;\n",
              "      border-right-color: var(--fill-color);\n",
              "      border-top-color: var(--fill-color);\n",
              "    }\n",
              "    60% {\n",
              "      border-color: transparent;\n",
              "      border-right-color: var(--fill-color);\n",
              "    }\n",
              "    80% {\n",
              "      border-color: transparent;\n",
              "      border-right-color: var(--fill-color);\n",
              "      border-bottom-color: var(--fill-color);\n",
              "    }\n",
              "    90% {\n",
              "      border-color: transparent;\n",
              "      border-bottom-color: var(--fill-color);\n",
              "    }\n",
              "  }\n",
              "</style>\n",
              "\n",
              "  <script>\n",
              "    async function quickchart(key) {\n",
              "      const quickchartButtonEl =\n",
              "        document.querySelector('#' + key + ' button');\n",
              "      quickchartButtonEl.disabled = true;  // To prevent multiple clicks.\n",
              "      quickchartButtonEl.classList.add('colab-df-spinner');\n",
              "      try {\n",
              "        const charts = await google.colab.kernel.invokeFunction(\n",
              "            'suggestCharts', [key], {});\n",
              "      } catch (error) {\n",
              "        console.error('Error during call to suggestCharts:', error);\n",
              "      }\n",
              "      quickchartButtonEl.classList.remove('colab-df-spinner');\n",
              "      quickchartButtonEl.classList.add('colab-df-quickchart-complete');\n",
              "    }\n",
              "    (() => {\n",
              "      let quickchartButtonEl =\n",
              "        document.querySelector('#df-6a60d2d6-36f1-47a5-baaa-081343e0a6a1 button');\n",
              "      quickchartButtonEl.style.display =\n",
              "        google.colab.kernel.accessAllowed ? 'block' : 'none';\n",
              "    })();\n",
              "  </script>\n",
              "</div>\n",
              "    </div>\n",
              "  </div>\n"
            ],
            "application/vnd.google.colaboratory.intrinsic+json": {
              "type": "dataframe",
              "summary": "{\n  \"name\": \"imdb2[imdb2\",\n  \"rows\": 6,\n  \"fields\": [\n    {\n      \"column\": \"color\",\n      \"properties\": {\n        \"dtype\": \"category\",\n        \"num_unique_values\": 1,\n        \"samples\": [\n          \"Color\"\n        ],\n        \"semantic_type\": \"\",\n        \"description\": \"\"\n      }\n    },\n    {\n      \"column\": \"director_name\",\n      \"properties\": {\n        \"dtype\": \"string\",\n        \"num_unique_values\": 6,\n        \"samples\": [\n          \"Joss Whedon\"\n        ],\n        \"semantic_type\": \"\",\n        \"description\": \"\"\n      }\n    },\n    {\n      \"column\": \"duration\",\n      \"properties\": {\n        \"dtype\": \"number\",\n        \"std\": 12,\n        \"min\": 141,\n        \"max\": 173,\n        \"num_unique_values\": 5,\n        \"samples\": [\n          158\n        ],\n        \"semantic_type\": \"\",\n        \"description\": \"\"\n      }\n    },\n    {\n      \"column\": \"gross\",\n      \"properties\": {\n        \"dtype\": \"number\",\n        \"std\": 222240417.03213552,\n        \"min\": 65007045.0,\n        \"max\": 623279547.0,\n        \"num_unique_values\": 5,\n        \"samples\": [\n          148775460.0\n        ],\n        \"semantic_type\": \"\",\n        \"description\": \"\"\n      }\n    },\n    {\n      \"column\": \"genres\",\n      \"properties\": {\n        \"dtype\": \"string\",\n        \"num_unique_values\": 6,\n        \"samples\": [\n          \"Action|Adventure|Sci-Fi\"\n        ],\n        \"semantic_type\": \"\",\n        \"description\": \"\"\n      }\n    },\n    {\n      \"column\": \"movie_title\",\n      \"properties\": {\n        \"dtype\": \"string\",\n        \"num_unique_values\": 6,\n        \"samples\": [\n          \"The Avengers\"\n        ],\n        \"semantic_type\": \"\",\n        \"description\": \"\"\n      }\n    },\n    {\n      \"column\": \"title_year\",\n      \"properties\": {\n        \"dtype\": \"number\",\n        \"std\": 1,\n        \"min\": 2012,\n        \"max\": 2016,\n        \"num_unique_values\": 4,\n        \"samples\": [\n          2014\n        ],\n        \"semantic_type\": \"\",\n        \"description\": \"\"\n      }\n    },\n    {\n      \"column\": \"language\",\n      \"properties\": {\n        \"dtype\": \"category\",\n        \"num_unique_values\": 1,\n        \"samples\": [\n          \"English\"\n        ],\n        \"semantic_type\": \"\",\n        \"description\": \"\"\n      }\n    },\n    {\n      \"column\": \"country\",\n      \"properties\": {\n        \"dtype\": \"string\",\n        \"num_unique_values\": 3,\n        \"samples\": [\n          \"USA\"\n        ],\n        \"semantic_type\": \"\",\n        \"description\": \"\"\n      }\n    },\n    {\n      \"column\": \"budget\",\n      \"properties\": {\n        \"dtype\": \"number\",\n        \"std\": 61698190.14093255,\n        \"min\": 61000000.0,\n        \"max\": 220000000.0,\n        \"num_unique_values\": 6,\n        \"samples\": [\n          220000000.0\n        ],\n        \"semantic_type\": \"\",\n        \"description\": \"\"\n      }\n    },\n    {\n      \"column\": \"imdb_score\",\n      \"properties\": {\n        \"dtype\": \"number\",\n        \"std\": 0.866410218468519,\n        \"min\": 6.1,\n        \"max\": 8.1,\n        \"num_unique_values\": 5,\n        \"samples\": [\n          7.6\n        ],\n        \"semantic_type\": \"\",\n        \"description\": \"\"\n      }\n    },\n    {\n      \"column\": \"actors\",\n      \"properties\": {\n        \"dtype\": \"string\",\n        \"num_unique_values\": 6,\n        \"samples\": [\n          \"Chris Hemsworth,Robert Downey Jr.,Scarlett Johansson\"\n        ],\n        \"semantic_type\": \"\",\n        \"description\": \"\"\n      }\n    },\n    {\n      \"column\": \"movie_facebook_likes\",\n      \"properties\": {\n        \"dtype\": \"number\",\n        \"std\": 53346,\n        \"min\": 0,\n        \"max\": 144000,\n        \"num_unique_values\": 6,\n        \"samples\": [\n          123000\n        ],\n        \"semantic_type\": \"\",\n        \"description\": \"\"\n      }\n    }\n  ]\n}"
            }
          },
          "metadata": {},
          "execution_count": 5
        }
      ],
      "source": [
        "#I check if there are row duplicate\n",
        "len(imdb2[imdb2.duplicated()])\n",
        "#I check wich are there\n",
        "imdb2[imdb2.duplicated()]"
      ]
    },
    {
      "cell_type": "code",
      "execution_count": 6,
      "metadata": {
        "id": "1OvhSFxYGrrb"
      },
      "outputs": [],
      "source": [
        "#I delete the row duplicate\n",
        "imdb2.drop_duplicates(inplace=True)"
      ]
    },
    {
      "cell_type": "code",
      "execution_count": null,
      "metadata": {
        "id": "u0Uxt1U6G38p",
        "colab": {
          "base_uri": "https://localhost:8080/"
        },
        "outputId": "1b6fe468-8e1b-4dbb-e847-d2202771e092"
      },
      "outputs": [
        {
          "output_type": "stream",
          "name": "stdout",
          "text": [
            "<class 'pandas.core.frame.DataFrame'>\n",
            "Index: 91 entries, 0 to 96\n",
            "Data columns (total 13 columns):\n",
            " #   Column                Non-Null Count  Dtype  \n",
            "---  ------                --------------  -----  \n",
            " 0   color                 80 non-null     object \n",
            " 1   director_name         80 non-null     object \n",
            " 2   duration              91 non-null     int64  \n",
            " 3   gross                 84 non-null     float64\n",
            " 4   genres                90 non-null     object \n",
            " 5   movie_title           91 non-null     object \n",
            " 6   title_year            91 non-null     int64  \n",
            " 7   language              91 non-null     object \n",
            " 8   country               91 non-null     object \n",
            " 9   budget                87 non-null     float64\n",
            " 10  imdb_score            91 non-null     float64\n",
            " 11  actors                91 non-null     object \n",
            " 12  movie_facebook_likes  91 non-null     int64  \n",
            "dtypes: float64(3), int64(3), object(7)\n",
            "memory usage: 10.0+ KB\n"
          ]
        }
      ],
      "source": [
        "#I do the preview for see the changes\n",
        "imdb2.info()"
      ]
    },
    {
      "cell_type": "code",
      "execution_count": 7,
      "metadata": {
        "id": "pGL5_OFnG_M6"
      },
      "outputs": [],
      "source": [
        "#Reset the index after the changes\n",
        "imdb2.reset_index(drop=True, inplace=True)"
      ]
    },
    {
      "cell_type": "code",
      "execution_count": null,
      "metadata": {
        "id": "blK0NABVHh66"
      },
      "outputs": [],
      "source": [
        "imdb2.info()"
      ]
    },
    {
      "cell_type": "markdown",
      "source": [
        "#I check the nulls in the dataset, first i create a copy"
      ],
      "metadata": {
        "id": "O5YV5VevDTPs"
      }
    },
    {
      "cell_type": "code",
      "source": [
        "imdb3 = imdb2.copy()"
      ],
      "metadata": {
        "id": "kMxaTBrHGc1D"
      },
      "execution_count": 8,
      "outputs": []
    },
    {
      "cell_type": "code",
      "execution_count": 9,
      "metadata": {
        "id": "yUXE03qrJn2r",
        "colab": {
          "base_uri": "https://localhost:8080/"
        },
        "outputId": "777c73b2-bc11-418b-e386-e8dd01965191"
      },
      "outputs": [
        {
          "output_type": "execute_result",
          "data": {
            "text/plain": [
              "color                   11\n",
              "director_name           11\n",
              "duration                 0\n",
              "gross                    7\n",
              "genres                   1\n",
              "movie_title              0\n",
              "title_year               0\n",
              "language                 0\n",
              "country                  0\n",
              "budget                   4\n",
              "imdb_score               0\n",
              "actors                   0\n",
              "movie_facebook_likes     0\n",
              "dtype: int64"
            ]
          },
          "metadata": {},
          "execution_count": 9
        }
      ],
      "source": [
        "#Show the nulls in the columns\n",
        "imdb3.isnull().sum()"
      ]
    },
    {
      "cell_type": "code",
      "execution_count": 10,
      "metadata": {
        "id": "Cc00j6_4J4WB",
        "colab": {
          "base_uri": "https://localhost:8080/"
        },
        "outputId": "c00ad32c-0875-43fd-adae-97c577bde905"
      },
      "outputs": [
        {
          "output_type": "execute_result",
          "data": {
            "text/plain": [
              "color\n",
              "Color               0.9750\n",
              "color               0.0125\n",
              " Black and White    0.0125\n",
              "Name: proportion, dtype: float64"
            ]
          },
          "metadata": {},
          "execution_count": 10
        }
      ],
      "source": [
        "#I use \"value_counts\" metod for i see the data numbers by color\n",
        "imdb3['color'].value_counts()\n",
        "#Also i can use \"normalize\" inside \"value_counts\"\n",
        "imdb3['color'].value_counts(normalize=True)"
      ]
    },
    {
      "cell_type": "code",
      "execution_count": 11,
      "metadata": {
        "id": "s2D5yw--xENc"
      },
      "outputs": [],
      "source": [
        "#I delete color column because all data of columns is same\n",
        "del(imdb3['color'])"
      ]
    },
    {
      "cell_type": "code",
      "source": [
        "imdb3.info()"
      ],
      "metadata": {
        "id": "CdqD1l2oFB96"
      },
      "execution_count": null,
      "outputs": []
    },
    {
      "cell_type": "code",
      "execution_count": 12,
      "metadata": {
        "id": "w9pGYsR5M9DM",
        "colab": {
          "base_uri": "https://localhost:8080/"
        },
        "outputId": "b8089e25-d3b2-44c4-d147-df9aa07899fa"
      },
      "outputs": [
        {
          "output_type": "execute_result",
          "data": {
            "text/plain": [
              "director_name\n",
              "Michael Bay          3\n",
              "Peter Jackson        3\n",
              "Christopher Nolan    3\n",
              "Ridley Scott         3\n",
              "Martin Scorsese      2\n",
              "                    ..\n",
              "Shane Black          1\n",
              "Adam McKay           1\n",
              "Zack Snyder          1\n",
              "Baz Luhrmann         1\n",
              "Clint Eastwood       1\n",
              "Name: count, Length: 61, dtype: int64"
            ]
          },
          "metadata": {},
          "execution_count": 12
        }
      ],
      "source": [
        "imdb3['director_name'].value_counts()"
      ]
    },
    {
      "cell_type": "code",
      "execution_count": 13,
      "metadata": {
        "id": "5mQQBfHqRD8c",
        "colab": {
          "base_uri": "https://localhost:8080/",
          "height": 918
        },
        "outputId": "10adb69a-fb02-4928-9bdd-1f494ba93cb4"
      },
      "outputs": [
        {
          "output_type": "execute_result",
          "data": {
            "text/plain": [
              "   director_name  duration        gross                            genres  \\\n",
              "5            NaN       183  330249062.0           Action|Adventure|Sci-Fi   \n",
              "21           NaN       156  183635922.0  Adventure|Drama|Thriller|Western   \n",
              "27           NaN       150  182204440.0       Biography|Drama|History|War   \n",
              "36           NaN       147  407197282.0           Action|Adventure|Sci-Fi   \n",
              "49           NaN       143          NaN             Drama|Horror|Thriller   \n",
              "52           NaN       142  407999255.0   Adventure|Drama|Sci-Fi|Thriller   \n",
              "63           NaN       139  150832203.0          Adventure|Mystery|Sci-Fi   \n",
              "67           NaN       138  150117807.0                       Crime|Drama   \n",
              "74           NaN       137   37304950.0             Biography|Crime|Drama   \n",
              "76           NaN       137  281666058.0                  Adventure|Sci-Fi   \n",
              "83           NaN       136   52474616.0                             Drama   \n",
              "\n",
              "                              movie_title  title_year language country  \\\n",
              "5      Batman v Superman: Dawn of Justice         202  English     USA   \n",
              "21                           The Revenant        2015  English     USA   \n",
              "27                                Lincoln        2012  English     USA   \n",
              "36             Captain America: Civil War        2016  English     USA   \n",
              "49                             The Ridges        2011  English     USA   \n",
              "52                       The Hunger Games        2012  English     USA   \n",
              "63                              Divergent        2014  English     USA   \n",
              "67                        American Hustle        2013  English     USA   \n",
              "74                               J. Edgar        2011  English     USA   \n",
              "76  The Hunger Games: Mockingjay - Part 2        2015  English     USA   \n",
              "83        Wall Street: Money Never Sleeps        2010  English     USA   \n",
              "\n",
              "         budget  imdb_score  \\\n",
              "5   250000000.0         6.9   \n",
              "21  135000000.0         8.1   \n",
              "27   65000000.0         7.4   \n",
              "36  250000000.0         8.2   \n",
              "49      17350.0         3.0   \n",
              "52   78000000.0         7.3   \n",
              "63   85000000.0         6.7   \n",
              "67   40000000.0         7.3   \n",
              "74   35000000.0         6.6   \n",
              "76  160000000.0         6.6   \n",
              "83   70000000.0         6.3   \n",
              "\n",
              "                                               actors  movie_facebook_likes  \n",
              "5            Henry Cavill,Lauren Cohan,Alan D. Purwin                197000  \n",
              "21             Leonardo DiCaprio,Tom Hardy,Lukas Haas                190000  \n",
              "27     Joseph Gordon-Levitt,Hal Holbrook,Bruce McGill                 71000  \n",
              "36   Robert Downey Jr.,Scarlett Johansson,Chris Evans                 72000  \n",
              "49      Robbie Barnes,Alana Kaniewski,Brandon Landers                    33  \n",
              "52  Jennifer Lawrence,Josh Hutcherson,Anthony Reyn...                140000  \n",
              "63               Kate Winslet,Theo James,Mekhi Phifer                 49000  \n",
              "67    Jennifer Lawrence,Christian Bale,Bradley Cooper                 63000  \n",
              "74        Leonardo DiCaprio,Naomi Watts,Kaitlyn Dever                 16000  \n",
              "76  Jennifer Lawrence,Philip Seymour Hoffman,Josh ...                 38000  \n",
              "83  Frank Langella,Austin Pendleton,John Buffalo M...                 13000  "
            ],
            "text/html": [
              "\n",
              "  <div id=\"df-4680eb63-dad0-4dd3-a440-02ee86215f00\" class=\"colab-df-container\">\n",
              "    <div>\n",
              "<style scoped>\n",
              "    .dataframe tbody tr th:only-of-type {\n",
              "        vertical-align: middle;\n",
              "    }\n",
              "\n",
              "    .dataframe tbody tr th {\n",
              "        vertical-align: top;\n",
              "    }\n",
              "\n",
              "    .dataframe thead th {\n",
              "        text-align: right;\n",
              "    }\n",
              "</style>\n",
              "<table border=\"1\" class=\"dataframe\">\n",
              "  <thead>\n",
              "    <tr style=\"text-align: right;\">\n",
              "      <th></th>\n",
              "      <th>director_name</th>\n",
              "      <th>duration</th>\n",
              "      <th>gross</th>\n",
              "      <th>genres</th>\n",
              "      <th>movie_title</th>\n",
              "      <th>title_year</th>\n",
              "      <th>language</th>\n",
              "      <th>country</th>\n",
              "      <th>budget</th>\n",
              "      <th>imdb_score</th>\n",
              "      <th>actors</th>\n",
              "      <th>movie_facebook_likes</th>\n",
              "    </tr>\n",
              "  </thead>\n",
              "  <tbody>\n",
              "    <tr>\n",
              "      <th>5</th>\n",
              "      <td>NaN</td>\n",
              "      <td>183</td>\n",
              "      <td>330249062.0</td>\n",
              "      <td>Action|Adventure|Sci-Fi</td>\n",
              "      <td>Batman v Superman: Dawn of Justice</td>\n",
              "      <td>202</td>\n",
              "      <td>English</td>\n",
              "      <td>USA</td>\n",
              "      <td>250000000.0</td>\n",
              "      <td>6.9</td>\n",
              "      <td>Henry Cavill,Lauren Cohan,Alan D. Purwin</td>\n",
              "      <td>197000</td>\n",
              "    </tr>\n",
              "    <tr>\n",
              "      <th>21</th>\n",
              "      <td>NaN</td>\n",
              "      <td>156</td>\n",
              "      <td>183635922.0</td>\n",
              "      <td>Adventure|Drama|Thriller|Western</td>\n",
              "      <td>The Revenant</td>\n",
              "      <td>2015</td>\n",
              "      <td>English</td>\n",
              "      <td>USA</td>\n",
              "      <td>135000000.0</td>\n",
              "      <td>8.1</td>\n",
              "      <td>Leonardo DiCaprio,Tom Hardy,Lukas Haas</td>\n",
              "      <td>190000</td>\n",
              "    </tr>\n",
              "    <tr>\n",
              "      <th>27</th>\n",
              "      <td>NaN</td>\n",
              "      <td>150</td>\n",
              "      <td>182204440.0</td>\n",
              "      <td>Biography|Drama|History|War</td>\n",
              "      <td>Lincoln</td>\n",
              "      <td>2012</td>\n",
              "      <td>English</td>\n",
              "      <td>USA</td>\n",
              "      <td>65000000.0</td>\n",
              "      <td>7.4</td>\n",
              "      <td>Joseph Gordon-Levitt,Hal Holbrook,Bruce McGill</td>\n",
              "      <td>71000</td>\n",
              "    </tr>\n",
              "    <tr>\n",
              "      <th>36</th>\n",
              "      <td>NaN</td>\n",
              "      <td>147</td>\n",
              "      <td>407197282.0</td>\n",
              "      <td>Action|Adventure|Sci-Fi</td>\n",
              "      <td>Captain America: Civil War</td>\n",
              "      <td>2016</td>\n",
              "      <td>English</td>\n",
              "      <td>USA</td>\n",
              "      <td>250000000.0</td>\n",
              "      <td>8.2</td>\n",
              "      <td>Robert Downey Jr.,Scarlett Johansson,Chris Evans</td>\n",
              "      <td>72000</td>\n",
              "    </tr>\n",
              "    <tr>\n",
              "      <th>49</th>\n",
              "      <td>NaN</td>\n",
              "      <td>143</td>\n",
              "      <td>NaN</td>\n",
              "      <td>Drama|Horror|Thriller</td>\n",
              "      <td>The Ridges</td>\n",
              "      <td>2011</td>\n",
              "      <td>English</td>\n",
              "      <td>USA</td>\n",
              "      <td>17350.0</td>\n",
              "      <td>3.0</td>\n",
              "      <td>Robbie Barnes,Alana Kaniewski,Brandon Landers</td>\n",
              "      <td>33</td>\n",
              "    </tr>\n",
              "    <tr>\n",
              "      <th>52</th>\n",
              "      <td>NaN</td>\n",
              "      <td>142</td>\n",
              "      <td>407999255.0</td>\n",
              "      <td>Adventure|Drama|Sci-Fi|Thriller</td>\n",
              "      <td>The Hunger Games</td>\n",
              "      <td>2012</td>\n",
              "      <td>English</td>\n",
              "      <td>USA</td>\n",
              "      <td>78000000.0</td>\n",
              "      <td>7.3</td>\n",
              "      <td>Jennifer Lawrence,Josh Hutcherson,Anthony Reyn...</td>\n",
              "      <td>140000</td>\n",
              "    </tr>\n",
              "    <tr>\n",
              "      <th>63</th>\n",
              "      <td>NaN</td>\n",
              "      <td>139</td>\n",
              "      <td>150832203.0</td>\n",
              "      <td>Adventure|Mystery|Sci-Fi</td>\n",
              "      <td>Divergent</td>\n",
              "      <td>2014</td>\n",
              "      <td>English</td>\n",
              "      <td>USA</td>\n",
              "      <td>85000000.0</td>\n",
              "      <td>6.7</td>\n",
              "      <td>Kate Winslet,Theo James,Mekhi Phifer</td>\n",
              "      <td>49000</td>\n",
              "    </tr>\n",
              "    <tr>\n",
              "      <th>67</th>\n",
              "      <td>NaN</td>\n",
              "      <td>138</td>\n",
              "      <td>150117807.0</td>\n",
              "      <td>Crime|Drama</td>\n",
              "      <td>American Hustle</td>\n",
              "      <td>2013</td>\n",
              "      <td>English</td>\n",
              "      <td>USA</td>\n",
              "      <td>40000000.0</td>\n",
              "      <td>7.3</td>\n",
              "      <td>Jennifer Lawrence,Christian Bale,Bradley Cooper</td>\n",
              "      <td>63000</td>\n",
              "    </tr>\n",
              "    <tr>\n",
              "      <th>74</th>\n",
              "      <td>NaN</td>\n",
              "      <td>137</td>\n",
              "      <td>37304950.0</td>\n",
              "      <td>Biography|Crime|Drama</td>\n",
              "      <td>J. Edgar</td>\n",
              "      <td>2011</td>\n",
              "      <td>English</td>\n",
              "      <td>USA</td>\n",
              "      <td>35000000.0</td>\n",
              "      <td>6.6</td>\n",
              "      <td>Leonardo DiCaprio,Naomi Watts,Kaitlyn Dever</td>\n",
              "      <td>16000</td>\n",
              "    </tr>\n",
              "    <tr>\n",
              "      <th>76</th>\n",
              "      <td>NaN</td>\n",
              "      <td>137</td>\n",
              "      <td>281666058.0</td>\n",
              "      <td>Adventure|Sci-Fi</td>\n",
              "      <td>The Hunger Games: Mockingjay - Part 2</td>\n",
              "      <td>2015</td>\n",
              "      <td>English</td>\n",
              "      <td>USA</td>\n",
              "      <td>160000000.0</td>\n",
              "      <td>6.6</td>\n",
              "      <td>Jennifer Lawrence,Philip Seymour Hoffman,Josh ...</td>\n",
              "      <td>38000</td>\n",
              "    </tr>\n",
              "    <tr>\n",
              "      <th>83</th>\n",
              "      <td>NaN</td>\n",
              "      <td>136</td>\n",
              "      <td>52474616.0</td>\n",
              "      <td>Drama</td>\n",
              "      <td>Wall Street: Money Never Sleeps</td>\n",
              "      <td>2010</td>\n",
              "      <td>English</td>\n",
              "      <td>USA</td>\n",
              "      <td>70000000.0</td>\n",
              "      <td>6.3</td>\n",
              "      <td>Frank Langella,Austin Pendleton,John Buffalo M...</td>\n",
              "      <td>13000</td>\n",
              "    </tr>\n",
              "  </tbody>\n",
              "</table>\n",
              "</div>\n",
              "    <div class=\"colab-df-buttons\">\n",
              "\n",
              "  <div class=\"colab-df-container\">\n",
              "    <button class=\"colab-df-convert\" onclick=\"convertToInteractive('df-4680eb63-dad0-4dd3-a440-02ee86215f00')\"\n",
              "            title=\"Convert this dataframe to an interactive table.\"\n",
              "            style=\"display:none;\">\n",
              "\n",
              "  <svg xmlns=\"http://www.w3.org/2000/svg\" height=\"24px\" viewBox=\"0 -960 960 960\">\n",
              "    <path d=\"M120-120v-720h720v720H120Zm60-500h600v-160H180v160Zm220 220h160v-160H400v160Zm0 220h160v-160H400v160ZM180-400h160v-160H180v160Zm440 0h160v-160H620v160ZM180-180h160v-160H180v160Zm440 0h160v-160H620v160Z\"/>\n",
              "  </svg>\n",
              "    </button>\n",
              "\n",
              "  <style>\n",
              "    .colab-df-container {\n",
              "      display:flex;\n",
              "      gap: 12px;\n",
              "    }\n",
              "\n",
              "    .colab-df-convert {\n",
              "      background-color: #E8F0FE;\n",
              "      border: none;\n",
              "      border-radius: 50%;\n",
              "      cursor: pointer;\n",
              "      display: none;\n",
              "      fill: #1967D2;\n",
              "      height: 32px;\n",
              "      padding: 0 0 0 0;\n",
              "      width: 32px;\n",
              "    }\n",
              "\n",
              "    .colab-df-convert:hover {\n",
              "      background-color: #E2EBFA;\n",
              "      box-shadow: 0px 1px 2px rgba(60, 64, 67, 0.3), 0px 1px 3px 1px rgba(60, 64, 67, 0.15);\n",
              "      fill: #174EA6;\n",
              "    }\n",
              "\n",
              "    .colab-df-buttons div {\n",
              "      margin-bottom: 4px;\n",
              "    }\n",
              "\n",
              "    [theme=dark] .colab-df-convert {\n",
              "      background-color: #3B4455;\n",
              "      fill: #D2E3FC;\n",
              "    }\n",
              "\n",
              "    [theme=dark] .colab-df-convert:hover {\n",
              "      background-color: #434B5C;\n",
              "      box-shadow: 0px 1px 3px 1px rgba(0, 0, 0, 0.15);\n",
              "      filter: drop-shadow(0px 1px 2px rgba(0, 0, 0, 0.3));\n",
              "      fill: #FFFFFF;\n",
              "    }\n",
              "  </style>\n",
              "\n",
              "    <script>\n",
              "      const buttonEl =\n",
              "        document.querySelector('#df-4680eb63-dad0-4dd3-a440-02ee86215f00 button.colab-df-convert');\n",
              "      buttonEl.style.display =\n",
              "        google.colab.kernel.accessAllowed ? 'block' : 'none';\n",
              "\n",
              "      async function convertToInteractive(key) {\n",
              "        const element = document.querySelector('#df-4680eb63-dad0-4dd3-a440-02ee86215f00');\n",
              "        const dataTable =\n",
              "          await google.colab.kernel.invokeFunction('convertToInteractive',\n",
              "                                                    [key], {});\n",
              "        if (!dataTable) return;\n",
              "\n",
              "        const docLinkHtml = 'Like what you see? Visit the ' +\n",
              "          '<a target=\"_blank\" href=https://colab.research.google.com/notebooks/data_table.ipynb>data table notebook</a>'\n",
              "          + ' to learn more about interactive tables.';\n",
              "        element.innerHTML = '';\n",
              "        dataTable['output_type'] = 'display_data';\n",
              "        await google.colab.output.renderOutput(dataTable, element);\n",
              "        const docLink = document.createElement('div');\n",
              "        docLink.innerHTML = docLinkHtml;\n",
              "        element.appendChild(docLink);\n",
              "      }\n",
              "    </script>\n",
              "  </div>\n",
              "\n",
              "\n",
              "<div id=\"df-0201290c-3840-4013-92bf-09a931514c84\">\n",
              "  <button class=\"colab-df-quickchart\" onclick=\"quickchart('df-0201290c-3840-4013-92bf-09a931514c84')\"\n",
              "            title=\"Suggest charts\"\n",
              "            style=\"display:none;\">\n",
              "\n",
              "<svg xmlns=\"http://www.w3.org/2000/svg\" height=\"24px\"viewBox=\"0 0 24 24\"\n",
              "     width=\"24px\">\n",
              "    <g>\n",
              "        <path d=\"M19 3H5c-1.1 0-2 .9-2 2v14c0 1.1.9 2 2 2h14c1.1 0 2-.9 2-2V5c0-1.1-.9-2-2-2zM9 17H7v-7h2v7zm4 0h-2V7h2v10zm4 0h-2v-4h2v4z\"/>\n",
              "    </g>\n",
              "</svg>\n",
              "  </button>\n",
              "\n",
              "<style>\n",
              "  .colab-df-quickchart {\n",
              "      --bg-color: #E8F0FE;\n",
              "      --fill-color: #1967D2;\n",
              "      --hover-bg-color: #E2EBFA;\n",
              "      --hover-fill-color: #174EA6;\n",
              "      --disabled-fill-color: #AAA;\n",
              "      --disabled-bg-color: #DDD;\n",
              "  }\n",
              "\n",
              "  [theme=dark] .colab-df-quickchart {\n",
              "      --bg-color: #3B4455;\n",
              "      --fill-color: #D2E3FC;\n",
              "      --hover-bg-color: #434B5C;\n",
              "      --hover-fill-color: #FFFFFF;\n",
              "      --disabled-bg-color: #3B4455;\n",
              "      --disabled-fill-color: #666;\n",
              "  }\n",
              "\n",
              "  .colab-df-quickchart {\n",
              "    background-color: var(--bg-color);\n",
              "    border: none;\n",
              "    border-radius: 50%;\n",
              "    cursor: pointer;\n",
              "    display: none;\n",
              "    fill: var(--fill-color);\n",
              "    height: 32px;\n",
              "    padding: 0;\n",
              "    width: 32px;\n",
              "  }\n",
              "\n",
              "  .colab-df-quickchart:hover {\n",
              "    background-color: var(--hover-bg-color);\n",
              "    box-shadow: 0 1px 2px rgba(60, 64, 67, 0.3), 0 1px 3px 1px rgba(60, 64, 67, 0.15);\n",
              "    fill: var(--button-hover-fill-color);\n",
              "  }\n",
              "\n",
              "  .colab-df-quickchart-complete:disabled,\n",
              "  .colab-df-quickchart-complete:disabled:hover {\n",
              "    background-color: var(--disabled-bg-color);\n",
              "    fill: var(--disabled-fill-color);\n",
              "    box-shadow: none;\n",
              "  }\n",
              "\n",
              "  .colab-df-spinner {\n",
              "    border: 2px solid var(--fill-color);\n",
              "    border-color: transparent;\n",
              "    border-bottom-color: var(--fill-color);\n",
              "    animation:\n",
              "      spin 1s steps(1) infinite;\n",
              "  }\n",
              "\n",
              "  @keyframes spin {\n",
              "    0% {\n",
              "      border-color: transparent;\n",
              "      border-bottom-color: var(--fill-color);\n",
              "      border-left-color: var(--fill-color);\n",
              "    }\n",
              "    20% {\n",
              "      border-color: transparent;\n",
              "      border-left-color: var(--fill-color);\n",
              "      border-top-color: var(--fill-color);\n",
              "    }\n",
              "    30% {\n",
              "      border-color: transparent;\n",
              "      border-left-color: var(--fill-color);\n",
              "      border-top-color: var(--fill-color);\n",
              "      border-right-color: var(--fill-color);\n",
              "    }\n",
              "    40% {\n",
              "      border-color: transparent;\n",
              "      border-right-color: var(--fill-color);\n",
              "      border-top-color: var(--fill-color);\n",
              "    }\n",
              "    60% {\n",
              "      border-color: transparent;\n",
              "      border-right-color: var(--fill-color);\n",
              "    }\n",
              "    80% {\n",
              "      border-color: transparent;\n",
              "      border-right-color: var(--fill-color);\n",
              "      border-bottom-color: var(--fill-color);\n",
              "    }\n",
              "    90% {\n",
              "      border-color: transparent;\n",
              "      border-bottom-color: var(--fill-color);\n",
              "    }\n",
              "  }\n",
              "</style>\n",
              "\n",
              "  <script>\n",
              "    async function quickchart(key) {\n",
              "      const quickchartButtonEl =\n",
              "        document.querySelector('#' + key + ' button');\n",
              "      quickchartButtonEl.disabled = true;  // To prevent multiple clicks.\n",
              "      quickchartButtonEl.classList.add('colab-df-spinner');\n",
              "      try {\n",
              "        const charts = await google.colab.kernel.invokeFunction(\n",
              "            'suggestCharts', [key], {});\n",
              "      } catch (error) {\n",
              "        console.error('Error during call to suggestCharts:', error);\n",
              "      }\n",
              "      quickchartButtonEl.classList.remove('colab-df-spinner');\n",
              "      quickchartButtonEl.classList.add('colab-df-quickchart-complete');\n",
              "    }\n",
              "    (() => {\n",
              "      let quickchartButtonEl =\n",
              "        document.querySelector('#df-0201290c-3840-4013-92bf-09a931514c84 button');\n",
              "      quickchartButtonEl.style.display =\n",
              "        google.colab.kernel.accessAllowed ? 'block' : 'none';\n",
              "    })();\n",
              "  </script>\n",
              "</div>\n",
              "    </div>\n",
              "  </div>\n"
            ],
            "application/vnd.google.colaboratory.intrinsic+json": {
              "type": "dataframe",
              "repr_error": "0"
            }
          },
          "metadata": {},
          "execution_count": 13
        }
      ],
      "source": [
        "#I check the nulls in \"director_name\" column and evaluate with other columns\n",
        "imdb3[imdb3['director_name'].isnull()]"
      ]
    },
    {
      "cell_type": "code",
      "execution_count": 14,
      "metadata": {
        "id": "HLDiISlTRdZ0"
      },
      "outputs": [],
      "source": [
        "#Replacement the nulls for \"no_director\", i use inplace for save changes\n",
        "imdb3['director_name'].fillna('no_director', inplace=True)"
      ]
    },
    {
      "cell_type": "code",
      "execution_count": 15,
      "metadata": {
        "id": "LTF6N14fSc69",
        "colab": {
          "base_uri": "https://localhost:8080/"
        },
        "outputId": "969277aa-7f3b-4723-a0b9-f8eff08f0f42"
      },
      "outputs": [
        {
          "output_type": "execute_result",
          "data": {
            "text/plain": [
              "director_name\n",
              "no_director          11\n",
              "Michael Bay           3\n",
              "Peter Jackson         3\n",
              "Christopher Nolan     3\n",
              "Ridley Scott          3\n",
              "                     ..\n",
              "Shane Black           1\n",
              "Adam McKay            1\n",
              "Zack Snyder           1\n",
              "Baz Luhrmann          1\n",
              "Clint Eastwood        1\n",
              "Name: count, Length: 62, dtype: int64"
            ]
          },
          "metadata": {},
          "execution_count": 15
        }
      ],
      "source": [
        "#I check that changes is aplicated\n",
        "imdb3['director_name'].value_counts()"
      ]
    },
    {
      "cell_type": "code",
      "execution_count": 16,
      "metadata": {
        "id": "7InKSAEF0LWa",
        "colab": {
          "base_uri": "https://localhost:8080/",
          "height": 487
        },
        "outputId": "8e045574-0e47-4f4f-fc7a-7f4c985e774e"
      },
      "outputs": [
        {
          "output_type": "execute_result",
          "data": {
            "text/plain": [
              "array([[<Axes: title={'center': 'gross'}>]], dtype=object)"
            ]
          },
          "metadata": {},
          "execution_count": 16
        },
        {
          "output_type": "display_data",
          "data": {
            "text/plain": [
              "<Figure size 640x480 with 1 Axes>"
            ],
            "image/png": "[encoded data removed]"
          },
          "metadata": {}
        }
      ],
      "source": [
        "#Previewed your histogram for i see distribution of data\n",
        "imdb3.hist('gross')"
      ]
    },
    {
      "cell_type": "code",
      "execution_count": null,
      "metadata": {
        "id": "CaS27AxvUaux"
      },
      "outputs": [],
      "source": [
        "imdb3[imdb3['gross']>5e8]"
      ]
    },
    {
      "cell_type": "code",
      "execution_count": null,
      "metadata": {
        "id": "Y1pUEzqNahCJ"
      },
      "outputs": [],
      "source": [
        "#I check the nulls\n",
        "imdb3[imdb3['gross'].isnull()]"
      ]
    },
    {
      "cell_type": "code",
      "execution_count": 17,
      "metadata": {
        "colab": {
          "base_uri": "https://localhost:8080/"
        },
        "id": "nUnWigi3bCV-",
        "outputId": "c973c00d-05ae-4711-e2cf-5945fb43ee04"
      },
      "outputs": [
        {
          "output_type": "execute_result",
          "data": {
            "text/plain": [
              "147788551.60714287"
            ]
          },
          "metadata": {},
          "execution_count": 17
        }
      ],
      "source": [
        "#I create a variable \"media_imdb3\" that is the average about \"gross\" column\n",
        "media_imdb3 = imdb3['gross'].mean()\n",
        "media_imdb3"
      ]
    },
    {
      "cell_type": "markdown",
      "source": [
        "#For my **gros** column, i will replacement nulls by the average of this column contain in the variable \"media_imdb3\". I create new copy"
      ],
      "metadata": {
        "id": "TdrqH5fJJNLn"
      }
    },
    {
      "cell_type": "code",
      "execution_count": 18,
      "metadata": {
        "id": "eFsH-2zXcEDg"
      },
      "outputs": [],
      "source": [
        "imdb4 = imdb3.copy()"
      ]
    },
    {
      "cell_type": "code",
      "execution_count": 19,
      "metadata": {
        "id": "GMqT3BsYcJGt"
      },
      "outputs": [],
      "source": [
        "#Replacement nulls by \"media_imdb3\"\n",
        "imdb4['gross'].fillna(media_imdb3, inplace=True)"
      ]
    },
    {
      "cell_type": "code",
      "execution_count": 20,
      "metadata": {
        "id": "I_GuZq0peBmt",
        "colab": {
          "base_uri": "https://localhost:8080/",
          "height": 465
        },
        "outputId": "cf8d5e6d-4313-4058-8100-ccf65cc463a4"
      },
      "outputs": [
        {
          "output_type": "execute_result",
          "data": {
            "text/plain": [
              "<Axes: >"
            ]
          },
          "metadata": {},
          "execution_count": 20
        },
        {
          "output_type": "display_data",
          "data": {
            "text/plain": [
              "<Figure size 640x480 with 1 Axes>"
            ],
            "image/png": "[encoded data removed]"
          },
          "metadata": {}
        }
      ],
      "source": [
        "#I compare my histogram \"imdb4\" with \"imfb3\" for my 'gross' column\n",
        "imdb4['gross'].hist()"
      ]
    },
    {
      "cell_type": "markdown",
      "source": [
        "#For my **genres** column, i see only one null, i will delete"
      ],
      "metadata": {
        "id": "u70hQSC4K2SG"
      }
    },
    {
      "cell_type": "code",
      "execution_count": 23,
      "metadata": {
        "colab": {
          "base_uri": "https://localhost:8080/",
          "height": 53
        },
        "id": "s9CNYWyQeN1l",
        "outputId": "fa187d9f-f2b0-400c-c870-afabfafcbb64"
      },
      "outputs": [
        {
          "output_type": "execute_result",
          "data": {
            "text/plain": [
              "Empty DataFrame\n",
              "Columns: [director_name, duration, gross, genres, movie_title, title_year, language, country, budget, imdb_score, actors, movie_facebook_likes]\n",
              "Index: []"
            ],
            "text/html": [
              "\n",
              "  <div id=\"df-fcc65059-d4d9-4e1d-936c-c564eb24aa0b\" class=\"colab-df-container\">\n",
              "    <div>\n",
              "<style scoped>\n",
              "    .dataframe tbody tr th:only-of-type {\n",
              "        vertical-align: middle;\n",
              "    }\n",
              "\n",
              "    .dataframe tbody tr th {\n",
              "        vertical-align: top;\n",
              "    }\n",
              "\n",
              "    .dataframe thead th {\n",
              "        text-align: right;\n",
              "    }\n",
              "</style>\n",
              "<table border=\"1\" class=\"dataframe\">\n",
              "  <thead>\n",
              "    <tr style=\"text-align: right;\">\n",
              "      <th></th>\n",
              "      <th>director_name</th>\n",
              "      <th>duration</th>\n",
              "      <th>gross</th>\n",
              "      <th>genres</th>\n",
              "      <th>movie_title</th>\n",
              "      <th>title_year</th>\n",
              "      <th>language</th>\n",
              "      <th>country</th>\n",
              "      <th>budget</th>\n",
              "      <th>imdb_score</th>\n",
              "      <th>actors</th>\n",
              "      <th>movie_facebook_likes</th>\n",
              "    </tr>\n",
              "  </thead>\n",
              "  <tbody>\n",
              "  </tbody>\n",
              "</table>\n",
              "</div>\n",
              "    <div class=\"colab-df-buttons\">\n",
              "\n",
              "  <div class=\"colab-df-container\">\n",
              "    <button class=\"colab-df-convert\" onclick=\"convertToInteractive('df-fcc65059-d4d9-4e1d-936c-c564eb24aa0b')\"\n",
              "            title=\"Convert this dataframe to an interactive table.\"\n",
              "            style=\"display:none;\">\n",
              "\n",
              "  <svg xmlns=\"http://www.w3.org/2000/svg\" height=\"24px\" viewBox=\"0 -960 960 960\">\n",
              "    <path d=\"M120-120v-720h720v720H120Zm60-500h600v-160H180v160Zm220 220h160v-160H400v160Zm0 220h160v-160H400v160ZM180-400h160v-160H180v160Zm440 0h160v-160H620v160ZM180-180h160v-160H180v160Zm440 0h160v-160H620v160Z\"/>\n",
              "  </svg>\n",
              "    </button>\n",
              "\n",
              "  <style>\n",
              "    .colab-df-container {\n",
              "      display:flex;\n",
              "      gap: 12px;\n",
              "    }\n",
              "\n",
              "    .colab-df-convert {\n",
              "      background-color: #E8F0FE;\n",
              "      border: none;\n",
              "      border-radius: 50%;\n",
              "      cursor: pointer;\n",
              "      display: none;\n",
              "      fill: #1967D2;\n",
              "      height: 32px;\n",
              "      padding: 0 0 0 0;\n",
              "      width: 32px;\n",
              "    }\n",
              "\n",
              "    .colab-df-convert:hover {\n",
              "      background-color: #E2EBFA;\n",
              "      box-shadow: 0px 1px 2px rgba(60, 64, 67, 0.3), 0px 1px 3px 1px rgba(60, 64, 67, 0.15);\n",
              "      fill: #174EA6;\n",
              "    }\n",
              "\n",
              "    .colab-df-buttons div {\n",
              "      margin-bottom: 4px;\n",
              "    }\n",
              "\n",
              "    [theme=dark] .colab-df-convert {\n",
              "      background-color: #3B4455;\n",
              "      fill: #D2E3FC;\n",
              "    }\n",
              "\n",
              "    [theme=dark] .colab-df-convert:hover {\n",
              "      background-color: #434B5C;\n",
              "      box-shadow: 0px 1px 3px 1px rgba(0, 0, 0, 0.15);\n",
              "      filter: drop-shadow(0px 1px 2px rgba(0, 0, 0, 0.3));\n",
              "      fill: #FFFFFF;\n",
              "    }\n",
              "  </style>\n",
              "\n",
              "    <script>\n",
              "      const buttonEl =\n",
              "        document.querySelector('#df-fcc65059-d4d9-4e1d-936c-c564eb24aa0b button.colab-df-convert');\n",
              "      buttonEl.style.display =\n",
              "        google.colab.kernel.accessAllowed ? 'block' : 'none';\n",
              "\n",
              "      async function convertToInteractive(key) {\n",
              "        const element = document.querySelector('#df-fcc65059-d4d9-4e1d-936c-c564eb24aa0b');\n",
              "        const dataTable =\n",
              "          await google.colab.kernel.invokeFunction('convertToInteractive',\n",
              "                                                    [key], {});\n",
              "        if (!dataTable) return;\n",
              "\n",
              "        const docLinkHtml = 'Like what you see? Visit the ' +\n",
              "          '<a target=\"_blank\" href=https://colab.research.google.com/notebooks/data_table.ipynb>data table notebook</a>'\n",
              "          + ' to learn more about interactive tables.';\n",
              "        element.innerHTML = '';\n",
              "        dataTable['output_type'] = 'display_data';\n",
              "        await google.colab.output.renderOutput(dataTable, element);\n",
              "        const docLink = document.createElement('div');\n",
              "        docLink.innerHTML = docLinkHtml;\n",
              "        element.appendChild(docLink);\n",
              "      }\n",
              "    </script>\n",
              "  </div>\n",
              "\n",
              "    </div>\n",
              "  </div>\n"
            ],
            "application/vnd.google.colaboratory.intrinsic+json": {
              "type": "dataframe",
              "repr_error": "Out of range float values are not JSON compliant: nan"
            }
          },
          "metadata": {},
          "execution_count": 23
        }
      ],
      "source": [
        "imdb4[imdb4['genres'].isnull()]"
      ]
    },
    {
      "cell_type": "code",
      "execution_count": 22,
      "metadata": {
        "id": "fOBPO09K0OcC"
      },
      "outputs": [],
      "source": [
        "#Delete the row that contain null\n",
        "imdb4.dropna(subset=['genres'], inplace=True)"
      ]
    },
    {
      "cell_type": "code",
      "execution_count": null,
      "metadata": {
        "id": "H8ck-YhhlVh6"
      },
      "outputs": [],
      "source": [
        "imdb4.info()"
      ]
    },
    {
      "cell_type": "markdown",
      "source": [
        "#For **budget** column i will replacement nulls by median"
      ],
      "metadata": {
        "id": "M8Dlih-6LgSK"
      }
    },
    {
      "cell_type": "code",
      "execution_count": 24,
      "metadata": {
        "id": "DeUmCe2ki8S9"
      },
      "outputs": [],
      "source": [
        "mediana = imdb3['budget'].median()"
      ]
    },
    {
      "cell_type": "code",
      "execution_count": 25,
      "metadata": {
        "id": "_7VDtKeQlBAU"
      },
      "outputs": [],
      "source": [
        "imdb5 = imdb4.copy()"
      ]
    },
    {
      "cell_type": "code",
      "execution_count": 26,
      "metadata": {
        "id": "DPhBqGAgk2V5"
      },
      "outputs": [],
      "source": [
        "imdb5['budget'].fillna(mediana, inplace=True)"
      ]
    },
    {
      "cell_type": "code",
      "source": [
        "imdb5.info()"
      ],
      "metadata": {
        "id": "FRQySfXPnp-1"
      },
      "execution_count": null,
      "outputs": []
    },
    {
      "cell_type": "markdown",
      "source": [
        "#After of work about nulls, now i check the logic about the variables![Screen_of_new_columns_change.png](data:image/png;base64,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)"
      ],
      "metadata": {
        "id": "E41jXhlDnwy_"
      }
    },
    {
      "cell_type": "markdown",
      "source": [
        "#For **duration** column, i see the histogram and i inspect"
      ],
      "metadata": {
        "id": "H6AcJbJZL44D"
      }
    },
    {
      "cell_type": "code",
      "execution_count": null,
      "metadata": {
        "id": "LeH_3fjlm2U-",
        "colab": {
          "base_uri": "https://localhost:8080/",
          "height": 469
        },
        "outputId": "3f446081-92f7-4c9e-b65c-d4280793d3ca"
      },
      "outputs": [
        {
          "output_type": "execute_result",
          "data": {
            "text/plain": [
              "array([[<Axes: title={'center': 'duration'}>]], dtype=object)"
            ]
          },
          "metadata": {},
          "execution_count": 67
        },
        {
          "output_type": "display_data",
          "data": {
            "text/plain": [
              "<Figure size 640x480 with 1 Axes>"
            ],
            "image/png": "[encoded data removed]"
          },
          "metadata": {}
        }
      ],
      "source": [
        "imdb5.hist('duration')"
      ]
    },
    {
      "cell_type": "code",
      "execution_count": null,
      "metadata": {
        "id": "SNP5RtrXm_0i"
      },
      "outputs": [],
      "source": [
        "#I see values down by 0 and values very far away about central data, are outliers.\n",
        "imdb5[(imdb5['duration']<10) | (imdb5['duration'] > 500)]"
      ]
    },
    {
      "cell_type": "code",
      "execution_count": 27,
      "metadata": {
        "id": "8HCUiNoc27vo",
        "colab": {
          "base_uri": "https://localhost:8080/"
        },
        "outputId": "47be5aea-582f-4bb3-8009-52c6d0ebdeae"
      },
      "outputs": [
        {
          "output_type": "execute_result",
          "data": {
            "text/plain": [
              "149.09302325581396"
            ]
          },
          "metadata": {},
          "execution_count": 27
        }
      ],
      "source": [
        "#I create the variable \"media_duration\"\n",
        "media_duration = imdb4[(imdb4['duration']>=10) & (imdb4['duration'] <= 500)]['duration'].mean()\n",
        "media_duration"
      ]
    },
    {
      "cell_type": "code",
      "execution_count": 120,
      "metadata": {
        "id": "v3-LW2qV_437"
      },
      "outputs": [],
      "source": [
        "imdb6 = imdb5.copy()"
      ]
    },
    {
      "cell_type": "code",
      "execution_count": 121,
      "metadata": {
        "id": "BrL22DjK2jBF"
      },
      "outputs": [],
      "source": [
        "#I replacemente outliers values by \"media_duration\" in a new copy\n",
        "#I would have also decided to delete them\n",
        "imdb6.loc[(imdb6['duration']<10) | (imdb6['duration'] > 500), 'duration'] = media_duration"
      ]
    },
    {
      "cell_type": "code",
      "execution_count": null,
      "metadata": {
        "id": "tQm_hLG60U4G"
      },
      "outputs": [],
      "source": [
        "#Other form that i can replace :\n",
        "#imdb6['duration'] = np.where((imdb6['duration']<10) | (imdb6['duration'] > 500), media_duration, imdb6['duration'])"
      ]
    },
    {
      "cell_type": "code",
      "source": [
        "imdb6.hist('duration')"
      ],
      "metadata": {
        "colab": {
          "base_uri": "https://localhost:8080/",
          "height": 469
        },
        "id": "5MpWIaj0m7FS",
        "outputId": "4189955d-734a-4f86-c9b3-4b1cf28387b4"
      },
      "execution_count": 38,
      "outputs": [
        {
          "output_type": "execute_result",
          "data": {
            "text/plain": [
              "array([[<Axes: title={'center': 'duration'}>]], dtype=object)"
            ]
          },
          "metadata": {},
          "execution_count": 38
        },
        {
          "output_type": "display_data",
          "data": {
            "text/plain": [
              "<Figure size 640x480 with 1 Axes>"
            ],
            "image/png": "[encoded data removed]"
          },
          "metadata": {}
        }
      ]
    },
    {
      "cell_type": "code",
      "execution_count": 69,
      "metadata": {
        "colab": {
          "base_uri": "https://localhost:8080/"
        },
        "id": "ecUhp2JX-VxB",
        "outputId": "4cb266ad-d90a-48f3-fc17-088149f2c573"
      },
      "outputs": [
        {
          "output_type": "execute_result",
          "data": {
            "text/plain": [
              "90"
            ]
          },
          "metadata": {},
          "execution_count": 69
        }
      ],
      "source": [
        "len(imdb6)"
      ]
    },
    {
      "cell_type": "markdown",
      "source": [
        "###If i had decided to delete them, the process would be next:"
      ],
      "metadata": {
        "id": "HdZpvVC3sSYS"
      }
    },
    {
      "cell_type": "code",
      "execution_count": 63,
      "metadata": {
        "id": "Nqc-7QNTATAL"
      },
      "outputs": [],
      "source": [
        "#I get the position of values that are outliers\n",
        "index_delete = imdb6.loc[(imdb6['duration']<10) | (imdb6['duration'] > 500), 'duration'].index"
      ]
    },
    {
      "cell_type": "code",
      "execution_count": 64,
      "metadata": {
        "id": "siAy8wGoAMga"
      },
      "outputs": [],
      "source": [
        "#I delete these rows(inside \"inder_delete\" list)\n",
        "imdb6.drop(index_delete, inplace=True)"
      ]
    },
    {
      "cell_type": "code",
      "source": [
        "#I reset the index with the changes\n",
        "imdb6.reset_index(drop=True, inplace=True)"
      ],
      "metadata": {
        "id": "V-JppFZtsufv"
      },
      "execution_count": 122,
      "outputs": []
    },
    {
      "cell_type": "code",
      "execution_count": 70,
      "metadata": {
        "id": "4nfs54OPAsBL",
        "colab": {
          "base_uri": "https://localhost:8080/"
        },
        "outputId": "3cf8480f-56aa-49cc-d22d-5e6addf58182"
      },
      "outputs": [
        {
          "output_type": "execute_result",
          "data": {
            "text/plain": [
              "90"
            ]
          },
          "metadata": {},
          "execution_count": 70
        }
      ],
      "source": [
        "len(imdb6)"
      ]
    },
    {
      "cell_type": "code",
      "execution_count": 73,
      "metadata": {
        "id": "7EsAXZ9mTrdz",
        "colab": {
          "base_uri": "https://localhost:8080/"
        },
        "outputId": "d636761a-c5e2-4858-d9ba-a44c9ea7554a"
      },
      "outputs": [
        {
          "output_type": "stream",
          "name": "stdout",
          "text": [
            "<class 'pandas.core.frame.DataFrame'>\n",
            "RangeIndex: 90 entries, 0 to 89\n",
            "Data columns (total 12 columns):\n",
            " #   Column                Non-Null Count  Dtype  \n",
            "---  ------                --------------  -----  \n",
            " 0   director_name         90 non-null     object \n",
            " 1   duration              90 non-null     float64\n",
            " 2   gross                 90 non-null     float64\n",
            " 3   genres                90 non-null     object \n",
            " 4   movie_title           90 non-null     object \n",
            " 5   title_year            90 non-null     int64  \n",
            " 6   language              90 non-null     object \n",
            " 7   country               90 non-null     object \n",
            " 8   budget                90 non-null     float64\n",
            " 9   imdb_score            90 non-null     float64\n",
            " 10  actors                90 non-null     object \n",
            " 11  movie_facebook_likes  90 non-null     int64  \n",
            "dtypes: float64(4), int64(2), object(6)\n",
            "memory usage: 8.6+ KB\n"
          ]
        }
      ],
      "source": [
        "imdb6.info()"
      ]
    },
    {
      "cell_type": "markdown",
      "source": [
        "#I inspect **genres** variable"
      ],
      "metadata": {
        "id": "QY-roINgs6Xh"
      }
    },
    {
      "cell_type": "markdown",
      "source": [
        "###I see values of film genres together with each other, i will separate to them"
      ],
      "metadata": {
        "id": "Dr6SoF7hAITZ"
      }
    },
    {
      "cell_type": "code",
      "source": [
        "imdb6['genres']"
      ],
      "metadata": {
        "colab": {
          "base_uri": "https://localhost:8080/"
        },
        "id": "5AikKluv5uyJ",
        "outputId": "13db110b-9362-43db-c1a3-560caa3fa7b2"
      },
      "execution_count": 44,
      "outputs": [
        {
          "output_type": "execute_result",
          "data": {
            "text/plain": [
              "0             Biography|Comedy|Crime|Drama\n",
              "1                  Action|Adventure|Sci-Fi\n",
              "2     Crime|Drama|Mystery|Thriller|Western\n",
              "3                                    Drama\n",
              "4                        Adventure|Fantasy\n",
              "                      ...                 \n",
              "86                 Biography|Drama|History\n",
              "87                            Comedy|Drama\n",
              "88                Biography|Drama|Thriller\n",
              "89                        Action|Drama|War\n",
              "90           Biography|Drama|Music|Musical\n",
              "Name: genres, Length: 90, dtype: object"
            ]
          },
          "metadata": {},
          "execution_count": 44
        }
      ]
    },
    {
      "cell_type": "code",
      "execution_count": 123,
      "metadata": {
        "id": "ij0mr7s9Usph",
        "colab": {
          "base_uri": "https://localhost:8080/",
          "height": 424
        },
        "outputId": "91a0b16c-9ae0-4b13-e96f-29ee0207e9f0"
      },
      "outputs": [
        {
          "output_type": "execute_result",
          "data": {
            "text/plain": [
              "            0          1         2         3        4\n",
              "0   Biography     Comedy     Crime     Drama     None\n",
              "1      Action  Adventure    Sci-Fi      None     None\n",
              "2       Crime      Drama   Mystery  Thriller  Western\n",
              "3       Drama       None      None      None     None\n",
              "4   Adventure    Fantasy      None      None     None\n",
              "..        ...        ...       ...       ...      ...\n",
              "85  Biography      Drama   History      None     None\n",
              "86     Comedy      Drama      None      None     None\n",
              "87  Biography      Drama  Thriller      None     None\n",
              "88     Action      Drama       War      None     None\n",
              "89  Biography      Drama     Music   Musical     None\n",
              "\n",
              "[90 rows x 5 columns]"
            ],
            "text/html": [
              "\n",
              "  <div id=\"df-b14404ab-ff73-4985-95a4-07403db5079f\" class=\"colab-df-container\">\n",
              "    <div>\n",
              "<style scoped>\n",
              "    .dataframe tbody tr th:only-of-type {\n",
              "        vertical-align: middle;\n",
              "    }\n",
              "\n",
              "    .dataframe tbody tr th {\n",
              "        vertical-align: top;\n",
              "    }\n",
              "\n",
              "    .dataframe thead th {\n",
              "        text-align: right;\n",
              "    }\n",
              "</style>\n",
              "<table border=\"1\" class=\"dataframe\">\n",
              "  <thead>\n",
              "    <tr style=\"text-align: right;\">\n",
              "      <th></th>\n",
              "      <th>0</th>\n",
              "      <th>1</th>\n",
              "      <th>2</th>\n",
              "      <th>3</th>\n",
              "      <th>4</th>\n",
              "    </tr>\n",
              "  </thead>\n",
              "  <tbody>\n",
              "    <tr>\n",
              "      <th>0</th>\n",
              "      <td>Biography</td>\n",
              "      <td>Comedy</td>\n",
              "      <td>Crime</td>\n",
              "      <td>Drama</td>\n",
              "      <td>None</td>\n",
              "    </tr>\n",
              "    <tr>\n",
              "      <th>1</th>\n",
              "      <td>Action</td>\n",
              "      <td>Adventure</td>\n",
              "      <td>Sci-Fi</td>\n",
              "      <td>None</td>\n",
              "      <td>None</td>\n",
              "    </tr>\n",
              "    <tr>\n",
              "      <th>2</th>\n",
              "      <td>Crime</td>\n",
              "      <td>Drama</td>\n",
              "      <td>Mystery</td>\n",
              "      <td>Thriller</td>\n",
              "      <td>Western</td>\n",
              "    </tr>\n",
              "    <tr>\n",
              "      <th>3</th>\n",
              "      <td>Drama</td>\n",
              "      <td>None</td>\n",
              "      <td>None</td>\n",
              "      <td>None</td>\n",
              "      <td>None</td>\n",
              "    </tr>\n",
              "    <tr>\n",
              "      <th>4</th>\n",
              "      <td>Adventure</td>\n",
              "      <td>Fantasy</td>\n",
              "      <td>None</td>\n",
              "      <td>None</td>\n",
              "      <td>None</td>\n",
              "    </tr>\n",
              "    <tr>\n",
              "      <th>...</th>\n",
              "      <td>...</td>\n",
              "      <td>...</td>\n",
              "      <td>...</td>\n",
              "      <td>...</td>\n",
              "      <td>...</td>\n",
              "    </tr>\n",
              "    <tr>\n",
              "      <th>85</th>\n",
              "      <td>Biography</td>\n",
              "      <td>Drama</td>\n",
              "      <td>History</td>\n",
              "      <td>None</td>\n",
              "      <td>None</td>\n",
              "    </tr>\n",
              "    <tr>\n",
              "      <th>86</th>\n",
              "      <td>Comedy</td>\n",
              "      <td>Drama</td>\n",
              "      <td>None</td>\n",
              "      <td>None</td>\n",
              "      <td>None</td>\n",
              "    </tr>\n",
              "    <tr>\n",
              "      <th>87</th>\n",
              "      <td>Biography</td>\n",
              "      <td>Drama</td>\n",
              "      <td>Thriller</td>\n",
              "      <td>None</td>\n",
              "      <td>None</td>\n",
              "    </tr>\n",
              "    <tr>\n",
              "      <th>88</th>\n",
              "      <td>Action</td>\n",
              "      <td>Drama</td>\n",
              "      <td>War</td>\n",
              "      <td>None</td>\n",
              "      <td>None</td>\n",
              "    </tr>\n",
              "    <tr>\n",
              "      <th>89</th>\n",
              "      <td>Biography</td>\n",
              "      <td>Drama</td>\n",
              "      <td>Music</td>\n",
              "      <td>Musical</td>\n",
              "      <td>None</td>\n",
              "    </tr>\n",
              "  </tbody>\n",
              "</table>\n",
              "<p>90 rows × 5 columns</p>\n",
              "</div>\n",
              "    <div class=\"colab-df-buttons\">\n",
              "\n",
              "  <div class=\"colab-df-container\">\n",
              "    <button class=\"colab-df-convert\" onclick=\"convertToInteractive('df-b14404ab-ff73-4985-95a4-07403db5079f')\"\n",
              "            title=\"Convert this dataframe to an interactive table.\"\n",
              "            style=\"display:none;\">\n",
              "\n",
              "  <svg xmlns=\"http://www.w3.org/2000/svg\" height=\"24px\" viewBox=\"0 -960 960 960\">\n",
              "    <path d=\"M120-120v-720h720v720H120Zm60-500h600v-160H180v160Zm220 220h160v-160H400v160Zm0 220h160v-160H400v160ZM180-400h160v-160H180v160Zm440 0h160v-160H620v160ZM180-180h160v-160H180v160Zm440 0h160v-160H620v160Z\"/>\n",
              "  </svg>\n",
              "    </button>\n",
              "\n",
              "  <style>\n",
              "    .colab-df-container {\n",
              "      display:flex;\n",
              "      gap: 12px;\n",
              "    }\n",
              "\n",
              "    .colab-df-convert {\n",
              "      background-color: #E8F0FE;\n",
              "      border: none;\n",
              "      border-radius: 50%;\n",
              "      cursor: pointer;\n",
              "      display: none;\n",
              "      fill: #1967D2;\n",
              "      height: 32px;\n",
              "      padding: 0 0 0 0;\n",
              "      width: 32px;\n",
              "    }\n",
              "\n",
              "    .colab-df-convert:hover {\n",
              "      background-color: #E2EBFA;\n",
              "      box-shadow: 0px 1px 2px rgba(60, 64, 67, 0.3), 0px 1px 3px 1px rgba(60, 64, 67, 0.15);\n",
              "      fill: #174EA6;\n",
              "    }\n",
              "\n",
              "    .colab-df-buttons div {\n",
              "      margin-bottom: 4px;\n",
              "    }\n",
              "\n",
              "    [theme=dark] .colab-df-convert {\n",
              "      background-color: #3B4455;\n",
              "      fill: #D2E3FC;\n",
              "    }\n",
              "\n",
              "    [theme=dark] .colab-df-convert:hover {\n",
              "      background-color: #434B5C;\n",
              "      box-shadow: 0px 1px 3px 1px rgba(0, 0, 0, 0.15);\n",
              "      filter: drop-shadow(0px 1px 2px rgba(0, 0, 0, 0.3));\n",
              "      fill: #FFFFFF;\n",
              "    }\n",
              "  </style>\n",
              "\n",
              "    <script>\n",
              "      const buttonEl =\n",
              "        document.querySelector('#df-b14404ab-ff73-4985-95a4-07403db5079f button.colab-df-convert');\n",
              "      buttonEl.style.display =\n",
              "        google.colab.kernel.accessAllowed ? 'block' : 'none';\n",
              "\n",
              "      async function convertToInteractive(key) {\n",
              "        const element = document.querySelector('#df-b14404ab-ff73-4985-95a4-07403db5079f');\n",
              "        const dataTable =\n",
              "          await google.colab.kernel.invokeFunction('convertToInteractive',\n",
              "                                                    [key], {});\n",
              "        if (!dataTable) return;\n",
              "\n",
              "        const docLinkHtml = 'Like what you see? Visit the ' +\n",
              "          '<a target=\"_blank\" href=https://colab.research.google.com/notebooks/data_table.ipynb>data table notebook</a>'\n",
              "          + ' to learn more about interactive tables.';\n",
              "        element.innerHTML = '';\n",
              "        dataTable['output_type'] = 'display_data';\n",
              "        await google.colab.output.renderOutput(dataTable, element);\n",
              "        const docLink = document.createElement('div');\n",
              "        docLink.innerHTML = docLinkHtml;\n",
              "        element.appendChild(docLink);\n",
              "      }\n",
              "    </script>\n",
              "  </div>\n",
              "\n",
              "\n",
              "<div id=\"df-ee4f176f-a469-42ae-a21d-88ba179d1385\">\n",
              "  <button class=\"colab-df-quickchart\" onclick=\"quickchart('df-ee4f176f-a469-42ae-a21d-88ba179d1385')\"\n",
              "            title=\"Suggest charts\"\n",
              "            style=\"display:none;\">\n",
              "\n",
              "<svg xmlns=\"http://www.w3.org/2000/svg\" height=\"24px\"viewBox=\"0 0 24 24\"\n",
              "     width=\"24px\">\n",
              "    <g>\n",
              "        <path d=\"M19 3H5c-1.1 0-2 .9-2 2v14c0 1.1.9 2 2 2h14c1.1 0 2-.9 2-2V5c0-1.1-.9-2-2-2zM9 17H7v-7h2v7zm4 0h-2V7h2v10zm4 0h-2v-4h2v4z\"/>\n",
              "    </g>\n",
              "</svg>\n",
              "  </button>\n",
              "\n",
              "<style>\n",
              "  .colab-df-quickchart {\n",
              "      --bg-color: #E8F0FE;\n",
              "      --fill-color: #1967D2;\n",
              "      --hover-bg-color: #E2EBFA;\n",
              "      --hover-fill-color: #174EA6;\n",
              "      --disabled-fill-color: #AAA;\n",
              "      --disabled-bg-color: #DDD;\n",
              "  }\n",
              "\n",
              "  [theme=dark] .colab-df-quickchart {\n",
              "      --bg-color: #3B4455;\n",
              "      --fill-color: #D2E3FC;\n",
              "      --hover-bg-color: #434B5C;\n",
              "      --hover-fill-color: #FFFFFF;\n",
              "      --disabled-bg-color: #3B4455;\n",
              "      --disabled-fill-color: #666;\n",
              "  }\n",
              "\n",
              "  .colab-df-quickchart {\n",
              "    background-color: var(--bg-color);\n",
              "    border: none;\n",
              "    border-radius: 50%;\n",
              "    cursor: pointer;\n",
              "    display: none;\n",
              "    fill: var(--fill-color);\n",
              "    height: 32px;\n",
              "    padding: 0;\n",
              "    width: 32px;\n",
              "  }\n",
              "\n",
              "  .colab-df-quickchart:hover {\n",
              "    background-color: var(--hover-bg-color);\n",
              "    box-shadow: 0 1px 2px rgba(60, 64, 67, 0.3), 0 1px 3px 1px rgba(60, 64, 67, 0.15);\n",
              "    fill: var(--button-hover-fill-color);\n",
              "  }\n",
              "\n",
              "  .colab-df-quickchart-complete:disabled,\n",
              "  .colab-df-quickchart-complete:disabled:hover {\n",
              "    background-color: var(--disabled-bg-color);\n",
              "    fill: var(--disabled-fill-color);\n",
              "    box-shadow: none;\n",
              "  }\n",
              "\n",
              "  .colab-df-spinner {\n",
              "    border: 2px solid var(--fill-color);\n",
              "    border-color: transparent;\n",
              "    border-bottom-color: var(--fill-color);\n",
              "    animation:\n",
              "      spin 1s steps(1) infinite;\n",
              "  }\n",
              "\n",
              "  @keyframes spin {\n",
              "    0% {\n",
              "      border-color: transparent;\n",
              "      border-bottom-color: var(--fill-color);\n",
              "      border-left-color: var(--fill-color);\n",
              "    }\n",
              "    20% {\n",
              "      border-color: transparent;\n",
              "      border-left-color: var(--fill-color);\n",
              "      border-top-color: var(--fill-color);\n",
              "    }\n",
              "    30% {\n",
              "      border-color: transparent;\n",
              "      border-left-color: var(--fill-color);\n",
              "      border-top-color: var(--fill-color);\n",
              "      border-right-color: var(--fill-color);\n",
              "    }\n",
              "    40% {\n",
              "      border-color: transparent;\n",
              "      border-right-color: var(--fill-color);\n",
              "      border-top-color: var(--fill-color);\n",
              "    }\n",
              "    60% {\n",
              "      border-color: transparent;\n",
              "      border-right-color: var(--fill-color);\n",
              "    }\n",
              "    80% {\n",
              "      border-color: transparent;\n",
              "      border-right-color: var(--fill-color);\n",
              "      border-bottom-color: var(--fill-color);\n",
              "    }\n",
              "    90% {\n",
              "      border-color: transparent;\n",
              "      border-bottom-color: var(--fill-color);\n",
              "    }\n",
              "  }\n",
              "</style>\n",
              "\n",
              "  <script>\n",
              "    async function quickchart(key) {\n",
              "      const quickchartButtonEl =\n",
              "        document.querySelector('#' + key + ' button');\n",
              "      quickchartButtonEl.disabled = true;  // To prevent multiple clicks.\n",
              "      quickchartButtonEl.classList.add('colab-df-spinner');\n",
              "      try {\n",
              "        const charts = await google.colab.kernel.invokeFunction(\n",
              "            'suggestCharts', [key], {});\n",
              "      } catch (error) {\n",
              "        console.error('Error during call to suggestCharts:', error);\n",
              "      }\n",
              "      quickchartButtonEl.classList.remove('colab-df-spinner');\n",
              "      quickchartButtonEl.classList.add('colab-df-quickchart-complete');\n",
              "    }\n",
              "    (() => {\n",
              "      let quickchartButtonEl =\n",
              "        document.querySelector('#df-ee4f176f-a469-42ae-a21d-88ba179d1385 button');\n",
              "      quickchartButtonEl.style.display =\n",
              "        google.colab.kernel.accessAllowed ? 'block' : 'none';\n",
              "    })();\n",
              "  </script>\n",
              "</div>\n",
              "    </div>\n",
              "  </div>\n"
            ],
            "application/vnd.google.colaboratory.intrinsic+json": {
              "type": "dataframe",
              "variable_name": "list_genres",
              "summary": "{\n  \"name\": \"list_genres\",\n  \"rows\": 90,\n  \"fields\": [\n    {\n      \"column\": 0,\n      \"properties\": {\n        \"dtype\": \"category\",\n        \"num_unique_values\": 7,\n        \"samples\": [\n          \"Biography\",\n          \"Action\",\n          \"Comedy\"\n        ],\n        \"semantic_type\": \"\",\n        \"description\": \"\"\n      }\n    },\n    {\n      \"column\": 1,\n      \"properties\": {\n        \"dtype\": \"category\",\n        \"num_unique_values\": 17,\n        \"samples\": [\n          \"Comedy\",\n          \"Adventure\",\n          \"Sci-Fi\"\n        ],\n        \"semantic_type\": \"\",\n        \"description\": \"\"\n      }\n    },\n    {\n      \"column\": 2,\n      \"properties\": {\n        \"dtype\": \"category\",\n        \"num_unique_values\": 13,\n        \"samples\": [\n          \"Musical\",\n          \"Music\",\n          \"Crime\"\n        ],\n        \"semantic_type\": \"\",\n        \"description\": \"\"\n      }\n    },\n    {\n      \"column\": 3,\n      \"properties\": {\n        \"dtype\": \"category\",\n        \"num_unique_values\": 9,\n        \"samples\": [\n          \"Romance\",\n          \"Thriller\",\n          \"Sci-Fi\"\n        ],\n        \"semantic_type\": \"\",\n        \"description\": \"\"\n      }\n    },\n    {\n      \"column\": 4,\n      \"properties\": {\n        \"dtype\": \"category\",\n        \"num_unique_values\": 5,\n        \"samples\": [\n          \"Music\",\n          \"War\",\n          \"Thriller\"\n        ],\n        \"semantic_type\": \"\",\n        \"description\": \"\"\n      }\n    }\n  ]\n}"
            }
          },
          "metadata": {},
          "execution_count": 123
        }
      ],
      "source": [
        "#I separete the values of \"genres\" and put them in a list, i use \"expand\" for have\n",
        "list_genres= imdb6['genres'].str.split('|', expand=True)\n",
        "list_genres"
      ]
    },
    {
      "cell_type": "code",
      "execution_count": 124,
      "metadata": {
        "id": "Dl-ECwv8g_9i"
      },
      "outputs": [],
      "source": [
        "#I create a \"for\" loop for have new columns with the genres\n",
        "for i in list_genres:\n",
        "  imdb6['genre_'+str(i)]=list_genres[i]"
      ]
    },
    {
      "cell_type": "markdown",
      "source": [],
      "metadata": {
        "id": "kmG3neeGE5Cs"
      }
    },
    {
      "cell_type": "code",
      "execution_count": 96,
      "metadata": {
        "colab": {
          "base_uri": "https://localhost:8080/",
          "height": 153
        },
        "id": "Wut-Xllv70O6",
        "outputId": "b3e9dba0-e887-4c7b-fa1f-59adadaa9d33"
      },
      "outputs": [
        {
          "output_type": "execute_result",
          "data": {
            "text/plain": [
              "     director_name  duration        gross                        genres  \\\n",
              "0  Martin Scorsese     240.0  116866727.0  Biography|Comedy|Crime|Drama   \n",
              "\n",
              "               movie_title  title_year language country       budget  \\\n",
              "0  The Wolf of Wall Street        2013  English     USA  100000000.0   \n",
              "\n",
              "   imdb_score                                             actors  \\\n",
              "0         8.2  Leonardo DiCaprio,Matthew McConaughey,Jon Favreau   \n",
              "\n",
              "   movie_facebook_likes    genre_0 genre_1 genre_2 genre_3 genre_4  \n",
              "0                138000  Biography  Comedy   Crime   Drama    None  "
            ],
            "text/html": [
              "\n",
              "  <div id=\"df-0dc4b750-66ab-4f34-a5c3-be7c0ec16981\" class=\"colab-df-container\">\n",
              "    <div>\n",
              "<style scoped>\n",
              "    .dataframe tbody tr th:only-of-type {\n",
              "        vertical-align: middle;\n",
              "    }\n",
              "\n",
              "    .dataframe tbody tr th {\n",
              "        vertical-align: top;\n",
              "    }\n",
              "\n",
              "    .dataframe thead th {\n",
              "        text-align: right;\n",
              "    }\n",
              "</style>\n",
              "<table border=\"1\" class=\"dataframe\">\n",
              "  <thead>\n",
              "    <tr style=\"text-align: right;\">\n",
              "      <th></th>\n",
              "      <th>director_name</th>\n",
              "      <th>duration</th>\n",
              "      <th>gross</th>\n",
              "      <th>genres</th>\n",
              "      <th>movie_title</th>\n",
              "      <th>title_year</th>\n",
              "      <th>language</th>\n",
              "      <th>country</th>\n",
              "      <th>budget</th>\n",
              "      <th>imdb_score</th>\n",
              "      <th>actors</th>\n",
              "      <th>movie_facebook_likes</th>\n",
              "      <th>genre_0</th>\n",
              "      <th>genre_1</th>\n",
              "      <th>genre_2</th>\n",
              "      <th>genre_3</th>\n",
              "      <th>genre_4</th>\n",
              "    </tr>\n",
              "  </thead>\n",
              "  <tbody>\n",
              "    <tr>\n",
              "      <th>0</th>\n",
              "      <td>Martin Scorsese</td>\n",
              "      <td>240.0</td>\n",
              "      <td>116866727.0</td>\n",
              "      <td>Biography|Comedy|Crime|Drama</td>\n",
              "      <td>The Wolf of Wall Street</td>\n",
              "      <td>2013</td>\n",
              "      <td>English</td>\n",
              "      <td>USA</td>\n",
              "      <td>100000000.0</td>\n",
              "      <td>8.2</td>\n",
              "      <td>Leonardo DiCaprio,Matthew McConaughey,Jon Favreau</td>\n",
              "      <td>138000</td>\n",
              "      <td>Biography</td>\n",
              "      <td>Comedy</td>\n",
              "      <td>Crime</td>\n",
              "      <td>Drama</td>\n",
              "      <td>None</td>\n",
              "    </tr>\n",
              "  </tbody>\n",
              "</table>\n",
              "</div>\n",
              "    <div class=\"colab-df-buttons\">\n",
              "\n",
              "  <div class=\"colab-df-container\">\n",
              "    <button class=\"colab-df-convert\" onclick=\"convertToInteractive('df-0dc4b750-66ab-4f34-a5c3-be7c0ec16981')\"\n",
              "            title=\"Convert this dataframe to an interactive table.\"\n",
              "            style=\"display:none;\">\n",
              "\n",
              "  <svg xmlns=\"http://www.w3.org/2000/svg\" height=\"24px\" viewBox=\"0 -960 960 960\">\n",
              "    <path d=\"M120-120v-720h720v720H120Zm60-500h600v-160H180v160Zm220 220h160v-160H400v160Zm0 220h160v-160H400v160ZM180-400h160v-160H180v160Zm440 0h160v-160H620v160ZM180-180h160v-160H180v160Zm440 0h160v-160H620v160Z\"/>\n",
              "  </svg>\n",
              "    </button>\n",
              "\n",
              "  <style>\n",
              "    .colab-df-container {\n",
              "      display:flex;\n",
              "      gap: 12px;\n",
              "    }\n",
              "\n",
              "    .colab-df-convert {\n",
              "      background-color: #E8F0FE;\n",
              "      border: none;\n",
              "      border-radius: 50%;\n",
              "      cursor: pointer;\n",
              "      display: none;\n",
              "      fill: #1967D2;\n",
              "      height: 32px;\n",
              "      padding: 0 0 0 0;\n",
              "      width: 32px;\n",
              "    }\n",
              "\n",
              "    .colab-df-convert:hover {\n",
              "      background-color: #E2EBFA;\n",
              "      box-shadow: 0px 1px 2px rgba(60, 64, 67, 0.3), 0px 1px 3px 1px rgba(60, 64, 67, 0.15);\n",
              "      fill: #174EA6;\n",
              "    }\n",
              "\n",
              "    .colab-df-buttons div {\n",
              "      margin-bottom: 4px;\n",
              "    }\n",
              "\n",
              "    [theme=dark] .colab-df-convert {\n",
              "      background-color: #3B4455;\n",
              "      fill: #D2E3FC;\n",
              "    }\n",
              "\n",
              "    [theme=dark] .colab-df-convert:hover {\n",
              "      background-color: #434B5C;\n",
              "      box-shadow: 0px 1px 3px 1px rgba(0, 0, 0, 0.15);\n",
              "      filter: drop-shadow(0px 1px 2px rgba(0, 0, 0, 0.3));\n",
              "      fill: #FFFFFF;\n",
              "    }\n",
              "  </style>\n",
              "\n",
              "    <script>\n",
              "      const buttonEl =\n",
              "        document.querySelector('#df-0dc4b750-66ab-4f34-a5c3-be7c0ec16981 button.colab-df-convert');\n",
              "      buttonEl.style.display =\n",
              "        google.colab.kernel.accessAllowed ? 'block' : 'none';\n",
              "\n",
              "      async function convertToInteractive(key) {\n",
              "        const element = document.querySelector('#df-0dc4b750-66ab-4f34-a5c3-be7c0ec16981');\n",
              "        const dataTable =\n",
              "          await google.colab.kernel.invokeFunction('convertToInteractive',\n",
              "                                                    [key], {});\n",
              "        if (!dataTable) return;\n",
              "\n",
              "        const docLinkHtml = 'Like what you see? Visit the ' +\n",
              "          '<a target=\"_blank\" href=https://colab.research.google.com/notebooks/data_table.ipynb>data table notebook</a>'\n",
              "          + ' to learn more about interactive tables.';\n",
              "        element.innerHTML = '';\n",
              "        dataTable['output_type'] = 'display_data';\n",
              "        await google.colab.output.renderOutput(dataTable, element);\n",
              "        const docLink = document.createElement('div');\n",
              "        docLink.innerHTML = docLinkHtml;\n",
              "        element.appendChild(docLink);\n",
              "      }\n",
              "    </script>\n",
              "  </div>\n",
              "\n",
              "    </div>\n",
              "  </div>\n"
            ],
            "application/vnd.google.colaboratory.intrinsic+json": {
              "type": "dataframe",
              "variable_name": "imdb6",
              "summary": "{\n  \"name\": \"imdb6\",\n  \"rows\": 90,\n  \"fields\": [\n    {\n      \"column\": \"director_name\",\n      \"properties\": {\n        \"dtype\": \"string\",\n        \"num_unique_values\": 61,\n        \"samples\": [\n          \"Martin Scorsese\",\n          \"no_director\",\n          \"James Mangold\"\n        ],\n        \"semantic_type\": \"\",\n        \"description\": \"\"\n      }\n    },\n    {\n      \"column\": \"duration\",\n      \"properties\": {\n        \"dtype\": \"number\",\n        \"std\": 16.797289713814383,\n        \"min\": 134.0,\n        \"max\": 240.0,\n        \"num_unique_values\": 34,\n        \"samples\": [\n          156.0,\n          149.0,\n          140.0\n        ],\n        \"semantic_type\": \"\",\n        \"description\": \"\"\n      }\n    },\n    {\n      \"column\": \"gross\",\n      \"properties\": {\n        \"dtype\": \"number\",\n        \"std\": 129502465.93574156,\n        \"min\": 41229.0,\n        \"max\": 623279547.0,\n        \"num_unique_values\": 83,\n        \"samples\": [\n          292568851.0,\n          116866727.0,\n          60962878.0\n        ],\n        \"semantic_type\": \"\",\n        \"description\": \"\"\n      }\n    },\n    {\n      \"column\": \"genres\",\n      \"properties\": {\n        \"dtype\": \"string\",\n        \"num_unique_values\": 56,\n        \"samples\": [\n          \"Biography|Comedy|Crime|Drama\",\n          \"Drama|Romance\",\n          \"Drama|Horror|Thriller\"\n        ],\n        \"semantic_type\": \"\",\n        \"description\": \"\"\n      }\n    },\n    {\n      \"column\": \"movie_title\",\n      \"properties\": {\n        \"dtype\": \"string\",\n        \"num_unique_values\": 88,\n        \"samples\": [\n          \"A Million Ways to Die in the West\",\n          \"The Wolf of Wall Street\",\n          \"Lincoln\"\n        ],\n        \"semantic_type\": \"\",\n        \"description\": \"\"\n      }\n    },\n    {\n      \"column\": \"title_year\",\n      \"properties\": {\n        \"dtype\": \"number\",\n        \"std\": 268,\n        \"min\": 202,\n        \"max\": 2016,\n        \"num_unique_values\": 9,\n        \"samples\": [\n          2016,\n          2015,\n          2014\n        ],\n        \"semantic_type\": \"\",\n        \"description\": \"\"\n      }\n    },\n    {\n      \"column\": \"language\",\n      \"properties\": {\n        \"dtype\": \"category\",\n        \"num_unique_values\": 1,\n        \"samples\": [\n          \"English\"\n        ],\n        \"semantic_type\": \"\",\n        \"description\": \"\"\n      }\n    },\n    {\n      \"column\": \"country\",\n      \"properties\": {\n        \"dtype\": \"category\",\n        \"num_unique_values\": 12,\n        \"samples\": [\n          \"Kyrgyzstan\"\n        ],\n        \"semantic_type\": \"\",\n        \"description\": \"\"\n      }\n    },\n    {\n      \"column\": \"budget\",\n      \"properties\": {\n        \"dtype\": \"number\",\n        \"std\": 77125876.9621448,\n        \"min\": 17350.0,\n        \"max\": 250000000.0,\n        \"num_unique_values\": 53,\n        \"samples\": [\n          230000000.0\n        ],\n        \"semantic_type\": \"\",\n        \"description\": \"\"\n      }\n    },\n    {\n      \"column\": \"imdb_score\",\n      \"properties\": {\n        \"dtype\": \"number\",\n        \"std\": 1.9975356227848933,\n        \"min\": -7.5,\n        \"max\": 8.8,\n        \"num_unique_values\": 34,\n        \"samples\": [\n          6.3\n        ],\n        \"semantic_type\": \"\",\n        \"description\": \"\"\n      }\n    },\n    {\n      \"column\": \"actors\",\n      \"properties\": {\n        \"dtype\": \"string\",\n        \"num_unique_values\": 85,\n        \"samples\": [\n          \"Elina Abai Kyzy,Aziz Muradillayev,Mirlan Abdulayev\"\n        ],\n        \"semantic_type\": \"\",\n        \"description\": \"\"\n      }\n    },\n    {\n      \"column\": \"movie_facebook_likes\",\n      \"properties\": {\n        \"dtype\": \"number\",\n        \"std\": 58432,\n        \"min\": 0,\n        \"max\": 349000,\n        \"num_unique_values\": 65,\n        \"samples\": [\n          11000\n        ],\n        \"semantic_type\": \"\",\n        \"description\": \"\"\n      }\n    },\n    {\n      \"column\": \"genre_0\",\n      \"properties\": {\n        \"dtype\": \"category\",\n        \"num_unique_values\": 7,\n        \"samples\": [\n          \"Biography\"\n        ],\n        \"semantic_type\": \"\",\n        \"description\": \"\"\n      }\n    },\n    {\n      \"column\": \"genre_1\",\n      \"properties\": {\n        \"dtype\": \"category\",\n        \"num_unique_values\": 17,\n        \"samples\": [\n          \"Comedy\"\n        ],\n        \"semantic_type\": \"\",\n        \"description\": \"\"\n      }\n    },\n    {\n      \"column\": \"genre_2\",\n      \"properties\": {\n        \"dtype\": \"category\",\n        \"num_unique_values\": 13,\n        \"samples\": [\n          \"Musical\"\n        ],\n        \"semantic_type\": \"\",\n        \"description\": \"\"\n      }\n    },\n    {\n      \"column\": \"genre_3\",\n      \"properties\": {\n        \"dtype\": \"category\",\n        \"num_unique_values\": 9,\n        \"samples\": [\n          \"Romance\"\n        ],\n        \"semantic_type\": \"\",\n        \"description\": \"\"\n      }\n    },\n    {\n      \"column\": \"genre_4\",\n      \"properties\": {\n        \"dtype\": \"category\",\n        \"num_unique_values\": 5,\n        \"samples\": [\n          \"Music\"\n        ],\n        \"semantic_type\": \"\",\n        \"description\": \"\"\n      }\n    }\n  ]\n}"
            }
          },
          "metadata": {},
          "execution_count": 96
        }
      ],
      "source": [
        "#Check the values with new columns\n",
        "imdb6.head(1)"
      ]
    },
    {
      "cell_type": "code",
      "source": [
        "# i will delete \"genres\" column because the values is a now column for each one\n",
        "del(imdb6['genres'])"
      ],
      "metadata": {
        "id": "QLblGcdSYehX"
      },
      "execution_count": 125,
      "outputs": []
    },
    {
      "cell_type": "markdown",
      "source": [
        "#Inspect **language** column"
      ],
      "metadata": {
        "id": "zbOjYbGfHcPU"
      }
    },
    {
      "cell_type": "code",
      "source": [
        "imdb6['language'].unique()"
      ],
      "metadata": {
        "colab": {
          "base_uri": "https://localhost:8080/"
        },
        "id": "ry0kGGmtHlqT",
        "outputId": "b9f005e0-c912-42a6-9719-9bd67e7f9211"
      },
      "execution_count": 83,
      "outputs": [
        {
          "output_type": "execute_result",
          "data": {
            "text/plain": [
              "array(['English'], dtype=object)"
            ]
          },
          "metadata": {},
          "execution_count": 83
        }
      ]
    },
    {
      "cell_type": "code",
      "source": [
        "#I see all values are same, i will delete them\n",
        "del(imdb6['language'])"
      ],
      "metadata": {
        "id": "4vr1EbivXjck"
      },
      "execution_count": 126,
      "outputs": []
    },
    {
      "cell_type": "code",
      "source": [
        "imdb6.info()"
      ],
      "metadata": {
        "id": "ebwtDlBPYWVr"
      },
      "execution_count": null,
      "outputs": []
    },
    {
      "cell_type": "markdown",
      "source": [
        "#I inspect **country** column"
      ],
      "metadata": {
        "id": "Z4pbpC_DYLH-"
      }
    },
    {
      "cell_type": "code",
      "source": [
        "#I see some values same, i will correct( USA = United States=usa)\n",
        "imdb6['country'].value_counts()"
      ],
      "metadata": {
        "colab": {
          "base_uri": "https://localhost:8080/"
        },
        "id": "h_3167kAXuhK",
        "outputId": "2522fbf6-9abe-4b3c-d579-766faba2e0a5"
      },
      "execution_count": 98,
      "outputs": [
        {
          "output_type": "execute_result",
          "data": {
            "text/plain": [
              "country\n",
              "USA               71\n",
              "UK                 6\n",
              "usa                3\n",
              "France             2\n",
              "Germany            1\n",
              "New Zealand        1\n",
              "India              1\n",
              "United States      1\n",
              "Australia          1\n",
              "Czech Republic     1\n",
              "Kyrgyzstan         1\n",
              "Canada             1\n",
              "Name: count, dtype: int64"
            ]
          },
          "metadata": {},
          "execution_count": 98
        }
      ]
    },
    {
      "cell_type": "code",
      "source": [
        "#I standarized to uppercase and change \"UNITED STATES\" by \"USA\"\n",
        "imdb6['country'] = imdb6['country'].str.upper()\n",
        "imdb6['country']= np.where(imdb6['country']=='UNITED STATES','USA',imdb6['country'])\n",
        "imdb6['country'].value_counts()"
      ],
      "metadata": {
        "colab": {
          "base_uri": "https://localhost:8080/"
        },
        "id": "LX5tRdqoZNQV",
        "outputId": "3ca8f975-8de1-48fc-db77-c00634f83159"
      },
      "execution_count": 127,
      "outputs": [
        {
          "output_type": "execute_result",
          "data": {
            "text/plain": [
              "country\n",
              "USA               75\n",
              "UK                 6\n",
              "FRANCE             2\n",
              "GERMANY            1\n",
              "NEW ZEALAND        1\n",
              "INDIA              1\n",
              "AUSTRALIA          1\n",
              "CZECH REPUBLIC     1\n",
              "KYRGYZSTAN         1\n",
              "CANADA             1\n",
              "Name: count, dtype: int64"
            ]
          },
          "metadata": {},
          "execution_count": 127
        }
      ]
    },
    {
      "cell_type": "markdown",
      "source": [
        "#I inspect **actors** column"
      ],
      "metadata": {
        "id": "bYVYIGLsaOfF"
      }
    },
    {
      "cell_type": "code",
      "source": [
        "imdb6['actors'].value_counts()"
      ],
      "metadata": {
        "colab": {
          "base_uri": "https://localhost:8080/"
        },
        "id": "NkOO_5P0aXsQ",
        "outputId": "d510c1c0-2d43-4bb0-e439-32f2ab03aed4"
      },
      "execution_count": 101,
      "outputs": [
        {
          "output_type": "execute_result",
          "data": {
            "text/plain": [
              "actors\n",
              "Aidan Turner,Adam Brown,James Nesbitt                   3\n",
              "Chris Hemsworth,Robert Downey Jr.,Scarlett Johansson    2\n",
              "Morgan Freeman,Ayelet Zurer,Moises Arias                2\n",
              "Finn Wittrock,Jack O'Connell,Alex Russell               2\n",
              "Leonardo DiCaprio,Matthew McConaughey,Jon Favreau       1\n",
              "                                                       ..\n",
              "Jennifer Lawrence,Peter Dinklage,Hugh Jackman           1\n",
              "Patrick Fugit,Sela Ward,Emily Ratajkowski               1\n",
              "Johnny Depp,Ruth Wilson,Tom Wilkinson                   1\n",
              "Lesley Manville,Ruth Sheen,Karl Johnson                 1\n",
              "Johnny Cannizzaro,Steve Schirripa,Scott Vance           1\n",
              "Name: count, Length: 85, dtype: int64"
            ]
          },
          "metadata": {},
          "execution_count": 101
        }
      ]
    },
    {
      "cell_type": "code",
      "source": [
        "#I will do the same that i did for my \"genres\" column\n",
        "list_actors = imdb6['actors'].str.split(',', expand=True)"
      ],
      "metadata": {
        "id": "evjBWpDeadbG"
      },
      "execution_count": 128,
      "outputs": []
    },
    {
      "cell_type": "code",
      "source": [
        "#Create new copy\n",
        "imdb7= imdb6.copy()"
      ],
      "metadata": {
        "id": "8pkVF1lNdmFw"
      },
      "execution_count": 129,
      "outputs": []
    },
    {
      "cell_type": "code",
      "source": [
        "for i in list_actors:\n",
        "  imdb7['actor_'+str(i)]= list_actors[i]"
      ],
      "metadata": {
        "id": "RC_Us3LTagS8"
      },
      "execution_count": 130,
      "outputs": []
    },
    {
      "cell_type": "code",
      "source": [
        "imdb7.head(1)"
      ],
      "metadata": {
        "colab": {
          "base_uri": "https://localhost:8080/",
          "height": 153
        },
        "id": "khopAvBcayS3",
        "outputId": "55127a8c-6921-4e1f-d7e8-c06cbab5e1cb"
      },
      "execution_count": 140,
      "outputs": [
        {
          "output_type": "execute_result",
          "data": {
            "text/plain": [
              "     director_name  duration        gross              movie_title  \\\n",
              "0  Martin Scorsese     240.0  116866727.0  The Wolf of Wall Street   \n",
              "\n",
              "   title_year country       budget  imdb_score  \\\n",
              "0        2013     USA  100000000.0         8.2   \n",
              "\n",
              "                                              actors  movie_facebook_likes  \\\n",
              "0  Leonardo DiCaprio,Matthew McConaughey,Jon Favreau                138000   \n",
              "\n",
              "     genre_0 genre_1 genre_2 genre_3 genre_4            actor_0  \\\n",
              "0  Biography  Comedy   Crime   Drama    None  Leonardo DiCaprio   \n",
              "\n",
              "               actor_1      actor_2  \n",
              "0  Matthew McConaughey  Jon Favreau  "
            ],
            "text/html": [
              "\n",
              "  <div id=\"df-a70ab962-df83-450c-9e48-530a65badf85\" class=\"colab-df-container\">\n",
              "    <div>\n",
              "<style scoped>\n",
              "    .dataframe tbody tr th:only-of-type {\n",
              "        vertical-align: middle;\n",
              "    }\n",
              "\n",
              "    .dataframe tbody tr th {\n",
              "        vertical-align: top;\n",
              "    }\n",
              "\n",
              "    .dataframe thead th {\n",
              "        text-align: right;\n",
              "    }\n",
              "</style>\n",
              "<table border=\"1\" class=\"dataframe\">\n",
              "  <thead>\n",
              "    <tr style=\"text-align: right;\">\n",
              "      <th></th>\n",
              "      <th>director_name</th>\n",
              "      <th>duration</th>\n",
              "      <th>gross</th>\n",
              "      <th>movie_title</th>\n",
              "      <th>title_year</th>\n",
              "      <th>country</th>\n",
              "      <th>budget</th>\n",
              "      <th>imdb_score</th>\n",
              "      <th>actors</th>\n",
              "      <th>movie_facebook_likes</th>\n",
              "      <th>genre_0</th>\n",
              "      <th>genre_1</th>\n",
              "      <th>genre_2</th>\n",
              "      <th>genre_3</th>\n",
              "      <th>genre_4</th>\n",
              "      <th>actor_0</th>\n",
              "      <th>actor_1</th>\n",
              "      <th>actor_2</th>\n",
              "    </tr>\n",
              "  </thead>\n",
              "  <tbody>\n",
              "    <tr>\n",
              "      <th>0</th>\n",
              "      <td>Martin Scorsese</td>\n",
              "      <td>240.0</td>\n",
              "      <td>116866727.0</td>\n",
              "      <td>The Wolf of Wall Street</td>\n",
              "      <td>2013</td>\n",
              "      <td>USA</td>\n",
              "      <td>100000000.0</td>\n",
              "      <td>8.2</td>\n",
              "      <td>Leonardo DiCaprio,Matthew McConaughey,Jon Favreau</td>\n",
              "      <td>138000</td>\n",
              "      <td>Biography</td>\n",
              "      <td>Comedy</td>\n",
              "      <td>Crime</td>\n",
              "      <td>Drama</td>\n",
              "      <td>None</td>\n",
              "      <td>Leonardo DiCaprio</td>\n",
              "      <td>Matthew McConaughey</td>\n",
              "      <td>Jon Favreau</td>\n",
              "    </tr>\n",
              "  </tbody>\n",
              "</table>\n",
              "</div>\n",
              "    <div class=\"colab-df-buttons\">\n",
              "\n",
              "  <div class=\"colab-df-container\">\n",
              "    <button class=\"colab-df-convert\" onclick=\"convertToInteractive('df-a70ab962-df83-450c-9e48-530a65badf85')\"\n",
              "            title=\"Convert this dataframe to an interactive table.\"\n",
              "            style=\"display:none;\">\n",
              "\n",
              "  <svg xmlns=\"http://www.w3.org/2000/svg\" height=\"24px\" viewBox=\"0 -960 960 960\">\n",
              "    <path d=\"M120-120v-720h720v720H120Zm60-500h600v-160H180v160Zm220 220h160v-160H400v160Zm0 220h160v-160H400v160ZM180-400h160v-160H180v160Zm440 0h160v-160H620v160ZM180-180h160v-160H180v160Zm440 0h160v-160H620v160Z\"/>\n",
              "  </svg>\n",
              "    </button>\n",
              "\n",
              "  <style>\n",
              "    .colab-df-container {\n",
              "      display:flex;\n",
              "      gap: 12px;\n",
              "    }\n",
              "\n",
              "    .colab-df-convert {\n",
              "      background-color: #E8F0FE;\n",
              "      border: none;\n",
              "      border-radius: 50%;\n",
              "      cursor: pointer;\n",
              "      display: none;\n",
              "      fill: #1967D2;\n",
              "      height: 32px;\n",
              "      padding: 0 0 0 0;\n",
              "      width: 32px;\n",
              "    }\n",
              "\n",
              "    .colab-df-convert:hover {\n",
              "      background-color: #E2EBFA;\n",
              "      box-shadow: 0px 1px 2px rgba(60, 64, 67, 0.3), 0px 1px 3px 1px rgba(60, 64, 67, 0.15);\n",
              "      fill: #174EA6;\n",
              "    }\n",
              "\n",
              "    .colab-df-buttons div {\n",
              "      margin-bottom: 4px;\n",
              "    }\n",
              "\n",
              "    [theme=dark] .colab-df-convert {\n",
              "      background-color: #3B4455;\n",
              "      fill: #D2E3FC;\n",
              "    }\n",
              "\n",
              "    [theme=dark] .colab-df-convert:hover {\n",
              "      background-color: #434B5C;\n",
              "      box-shadow: 0px 1px 3px 1px rgba(0, 0, 0, 0.15);\n",
              "      filter: drop-shadow(0px 1px 2px rgba(0, 0, 0, 0.3));\n",
              "      fill: #FFFFFF;\n",
              "    }\n",
              "  </style>\n",
              "\n",
              "    <script>\n",
              "      const buttonEl =\n",
              "        document.querySelector('#df-a70ab962-df83-450c-9e48-530a65badf85 button.colab-df-convert');\n",
              "      buttonEl.style.display =\n",
              "        google.colab.kernel.accessAllowed ? 'block' : 'none';\n",
              "\n",
              "      async function convertToInteractive(key) {\n",
              "        const element = document.querySelector('#df-a70ab962-df83-450c-9e48-530a65badf85');\n",
              "        const dataTable =\n",
              "          await google.colab.kernel.invokeFunction('convertToInteractive',\n",
              "                                                    [key], {});\n",
              "        if (!dataTable) return;\n",
              "\n",
              "        const docLinkHtml = 'Like what you see? Visit the ' +\n",
              "          '<a target=\"_blank\" href=https://colab.research.google.com/notebooks/data_table.ipynb>data table notebook</a>'\n",
              "          + ' to learn more about interactive tables.';\n",
              "        element.innerHTML = '';\n",
              "        dataTable['output_type'] = 'display_data';\n",
              "        await google.colab.output.renderOutput(dataTable, element);\n",
              "        const docLink = document.createElement('div');\n",
              "        docLink.innerHTML = docLinkHtml;\n",
              "        element.appendChild(docLink);\n",
              "      }\n",
              "    </script>\n",
              "  </div>\n",
              "\n",
              "    </div>\n",
              "  </div>\n"
            ],
            "application/vnd.google.colaboratory.intrinsic+json": {
              "type": "dataframe",
              "variable_name": "imdb7",
              "summary": "{\n  \"name\": \"imdb7\",\n  \"rows\": 88,\n  \"fields\": [\n    {\n      \"column\": \"director_name\",\n      \"properties\": {\n        \"dtype\": \"string\",\n        \"num_unique_values\": 60,\n        \"samples\": [\n          \"Martin Scorsese\",\n          \"no_director\",\n          \"David Dobkin\"\n        ],\n        \"semantic_type\": \"\",\n        \"description\": \"\"\n      }\n    },\n    {\n      \"column\": \"duration\",\n      \"properties\": {\n        \"dtype\": \"number\",\n        \"std\": 16.760296590668467,\n        \"min\": 134.0,\n        \"max\": 240.0,\n        \"num_unique_values\": 33,\n        \"samples\": [\n          135.0,\n          154.0,\n          140.0\n        ],\n        \"semantic_type\": \"\",\n        \"description\": \"\"\n      }\n    },\n    {\n      \"column\": \"gross\",\n      \"properties\": {\n        \"dtype\": \"number\",\n        \"std\": 130270874.82173531,\n        \"min\": 41229.0,\n        \"max\": 623279547.0,\n        \"num_unique_values\": 82,\n        \"samples\": [\n          8093318.0,\n          116866727.0,\n          262030663.0\n        ],\n        \"semantic_type\": \"\",\n        \"description\": \"\"\n      }\n    },\n    {\n      \"column\": \"movie_title\",\n      \"properties\": {\n        \"dtype\": \"string\",\n        \"num_unique_values\": 87,\n        \"samples\": [\n          \"Captain America: The Winter Soldier\",\n          \"The Wolf of Wall Street\",\n          \"Mr. Turner\"\n        ],\n        \"semantic_type\": \"\",\n        \"description\": \"\"\n      }\n    },\n    {\n      \"column\": \"title_year\",\n      \"properties\": {\n        \"dtype\": \"number\",\n        \"std\": 271,\n        \"min\": 202,\n        \"max\": 2016,\n        \"num_unique_values\": 9,\n        \"samples\": [\n          2016,\n          2015,\n          2014\n        ],\n        \"semantic_type\": \"\",\n        \"description\": \"\"\n      }\n    },\n    {\n      \"column\": \"country\",\n      \"properties\": {\n        \"dtype\": \"category\",\n        \"num_unique_values\": 9,\n        \"samples\": [\n          \"KYRGYZSTAN\",\n          \"UK\",\n          \"AUSTRALIA\"\n        ],\n        \"semantic_type\": \"\",\n        \"description\": \"\"\n      }\n    },\n    {\n      \"column\": \"budget\",\n      \"properties\": {\n        \"dtype\": \"number\",\n        \"std\": 77904310.47767314,\n        \"min\": 17350.0,\n        \"max\": 250000000.0,\n        \"num_unique_values\": 52,\n        \"samples\": [\n          140000000.0,\n          85000000.0,\n          170000000.0\n        ],\n        \"semantic_type\": \"\",\n        \"description\": \"\"\n      }\n    },\n    {\n      \"column\": \"imdb_score\",\n      \"properties\": {\n        \"dtype\": \"number\",\n        \"std\": 0.9467620671019933,\n        \"min\": 3.0,\n        \"max\": 8.8,\n        \"num_unique_values\": 32,\n        \"samples\": [\n          6.6,\n          7.0,\n          3.0\n        ],\n        \"semantic_type\": \"\",\n        \"description\": \"\"\n      }\n    },\n    {\n      \"column\": \"actors\",\n      \"properties\": {\n        \"dtype\": \"string\",\n        \"num_unique_values\": 84,\n        \"samples\": [\n          \"Scarlett Johansson,Chris Evans,Hayley Atwell\",\n          \"Leonardo DiCaprio,Matthew McConaughey,Jon Favreau\",\n          \"Matthew McConaughey,Donald Watkins,Jessica Collins\"\n        ],\n        \"semantic_type\": \"\",\n        \"description\": \"\"\n      }\n    },\n    {\n      \"column\": \"movie_facebook_likes\",\n      \"properties\": {\n        \"dtype\": \"number\",\n        \"std\": 58668,\n        \"min\": 0,\n        \"max\": 349000,\n        \"num_unique_values\": 64,\n        \"samples\": [\n          11000,\n          16000,\n          138000\n        ],\n        \"semantic_type\": \"\",\n        \"description\": \"\"\n      }\n    },\n    {\n      \"column\": \"genre_0\",\n      \"properties\": {\n        \"dtype\": \"category\",\n        \"num_unique_values\": 7,\n        \"samples\": [\n          \"Biography\",\n          \"Action\",\n          \"Comedy\"\n        ],\n        \"semantic_type\": \"\",\n        \"description\": \"\"\n      }\n    },\n    {\n      \"column\": \"genre_1\",\n      \"properties\": {\n        \"dtype\": \"category\",\n        \"num_unique_values\": 17,\n        \"samples\": [\n          \"Comedy\",\n          \"Adventure\",\n          \"Crime\"\n        ],\n        \"semantic_type\": \"\",\n        \"description\": \"\"\n      }\n    },\n    {\n      \"column\": \"genre_2\",\n      \"properties\": {\n        \"dtype\": \"category\",\n        \"num_unique_values\": 13,\n        \"samples\": [\n          \"Musical\",\n          \"Music\",\n          \"Crime\"\n        ],\n        \"semantic_type\": \"\",\n        \"description\": \"\"\n      }\n    },\n    {\n      \"column\": \"genre_3\",\n      \"properties\": {\n        \"dtype\": \"category\",\n        \"num_unique_values\": 9,\n        \"samples\": [\n          \"Romance\",\n          \"Thriller\",\n          \"Sci-Fi\"\n        ],\n        \"semantic_type\": \"\",\n        \"description\": \"\"\n      }\n    },\n    {\n      \"column\": \"genre_4\",\n      \"properties\": {\n        \"dtype\": \"category\",\n        \"num_unique_values\": 5,\n        \"samples\": [\n          \"Music\",\n          \"War\",\n          \"Thriller\"\n        ],\n        \"semantic_type\": \"\",\n        \"description\": \"\"\n      }\n    },\n    {\n      \"column\": \"actor_0\",\n      \"properties\": {\n        \"dtype\": \"string\",\n        \"num_unique_values\": 59,\n        \"samples\": [\n          \"Leonardo DiCaprio\",\n          \"Henry Cavill\",\n          \"Albert Finney\"\n        ],\n        \"semantic_type\": \"\",\n        \"description\": \"\"\n      }\n    },\n    {\n      \"column\": \"actor_1\",\n      \"properties\": {\n        \"dtype\": \"string\",\n        \"num_unique_values\": 80,\n        \"samples\": [\n          \"Rory Kinnear\",\n          \"Matthew McConaughey\",\n          \"Mar\\u00eda Valverde\"\n        ],\n        \"semantic_type\": \"\",\n        \"description\": \"\"\n      }\n    },\n    {\n      \"column\": \"actor_2\",\n      \"properties\": {\n        \"dtype\": \"string\",\n        \"num_unique_values\": 81,\n        \"samples\": [\n          \"Stephanie Sigman\",\n          \"Jon Favreau\",\n          \"Ben Mendelsohn\"\n        ],\n        \"semantic_type\": \"\",\n        \"description\": \"\"\n      }\n    }\n  ]\n}"
            }
          },
          "metadata": {},
          "execution_count": 140
        }
      ]
    },
    {
      "cell_type": "markdown",
      "source": [
        "#Inspect **imdb_score** column"
      ],
      "metadata": {
        "id": "R2FgS648d5kU"
      }
    },
    {
      "cell_type": "code",
      "source": [
        "imdb7['imdb_score'].unique()"
      ],
      "metadata": {
        "colab": {
          "base_uri": "https://localhost:8080/"
        },
        "id": "-kRU_36pd01Y",
        "outputId": "d473166e-cf5d-4160-8ad1-d1554d0a3b6a"
      },
      "execution_count": 132,
      "outputs": [
        {
          "output_type": "execute_result",
          "data": {
            "text/plain": [
              "array([ 8.2,  7.2,  7.9,  6.5,  6.9,  8.1, -7.5,  8.6,  8. ,  8.5,  5.7,\n",
              "        7.5,  7.6,  7.4,  6.7,  6.3,  7. ,  6.1,  6.8,  8.4,  8.8,  4.3,\n",
              "        7.1,  7.3,  7.8,  3. ,  6. ,  5.8,  5.3,  6.4,  6.6, -1.2,  5.9,\n",
              "        8.7])"
            ]
          },
          "metadata": {},
          "execution_count": 132
        }
      ]
    },
    {
      "cell_type": "code",
      "source": [
        "#I see negative values\n",
        "imdb7.hist('imdb_score')"
      ],
      "metadata": {
        "colab": {
          "base_uri": "https://localhost:8080/",
          "height": 469
        },
        "id": "2sT-wy4geNN9",
        "outputId": "06771f59-396e-489a-af95-978a46fb1dca"
      },
      "execution_count": 133,
      "outputs": [
        {
          "output_type": "execute_result",
          "data": {
            "text/plain": [
              "array([[<Axes: title={'center': 'imdb_score'}>]], dtype=object)"
            ]
          },
          "metadata": {},
          "execution_count": 133
        },
        {
          "output_type": "display_data",
          "data": {
            "text/plain": [
              "<Figure size 640x480 with 1 Axes>"
            ],
            "image/png": "[encoded data removed]"
          },
          "metadata": {}
        }
      ]
    },
    {
      "cell_type": "code",
      "source": [
        "#In a previous case, i replaced the negative values with the average, this time i will eliminate them\n",
        "imdb7.drop(imdb7[imdb7['imdb_score']<0].index, inplace=True)"
      ],
      "metadata": {
        "id": "2ULh-vNeeVjC"
      },
      "execution_count": 135,
      "outputs": []
    },
    {
      "cell_type": "markdown",
      "source": [
        "# I inspect **movie_facebook_likes**"
      ],
      "metadata": {
        "id": "vjNASoAgfLzU"
      }
    },
    {
      "cell_type": "code",
      "source": [
        "imdb7['movie_facebook_likes'].unique()"
      ],
      "metadata": {
        "colab": {
          "base_uri": "https://localhost:8080/"
        },
        "id": "7swpuMAme-Fa",
        "outputId": "cbcf249a-e463-47a9-eb62-ca0d2517fc00"
      },
      "execution_count": 136,
      "outputs": [
        {
          "output_type": "execute_result",
          "data": {
            "text/plain": [
              "array([138000,  95000, 114000,      0,  83000, 197000, 166000,    434,\n",
              "       123000, 349000,  76000,  92000, 199000,  56000, 164000,  65000,\n",
              "       144000,  39000,  17000, 190000,  46000,  86000,     58,  51000,\n",
              "        71000,  48000, 146000,  82000,   5000, 175000,  18000,  85000,\n",
              "        72000,  75000,  28000,  44000,  27000,  54000,  41000, 118000,\n",
              "        80000, 115000,     33,  55000, 140000,  13000,  47000,  26000,\n",
              "        94000,  77000,  49000,  10000,  11000,  63000,  64000,  53000,\n",
              "        24000,  68000,  16000,  38000,  35000,  58000,  33000,  31000])"
            ]
          },
          "metadata": {},
          "execution_count": 136
        }
      ]
    },
    {
      "cell_type": "code",
      "source": [
        "#I see a outlier\n",
        "imdb7.hist('movie_facebook_likes')"
      ],
      "metadata": {
        "colab": {
          "base_uri": "https://localhost:8080/",
          "height": 469
        },
        "id": "cuhqdH2Zfmrr",
        "outputId": "162fbfec-f345-42b8-875c-aa2c502a7f15"
      },
      "execution_count": 137,
      "outputs": [
        {
          "output_type": "execute_result",
          "data": {
            "text/plain": [
              "array([[<Axes: title={'center': 'movie_facebook_likes'}>]], dtype=object)"
            ]
          },
          "metadata": {},
          "execution_count": 137
        },
        {
          "output_type": "display_data",
          "data": {
            "text/plain": [
              "<Figure size 640x480 with 1 Axes>"
            ],
            "image/png": "[encoded data removed]"
          },
          "metadata": {}
        }
      ]
    },
    {
      "cell_type": "code",
      "source": [
        "#I delete values greater than 300000 and i reset index\n",
        "imdb7.drop(imdb7[imdb7['movie_facebook_likes']>300000].index, inplace=True)\n",
        "imdb7.reset_index(drop=True, inplace=True)"
      ],
      "metadata": {
        "id": "You4fL0Vid7c"
      },
      "execution_count": 143,
      "outputs": []
    },
    {
      "cell_type": "code",
      "source": [
        "imdb7.info()"
      ],
      "metadata": {
        "colab": {
          "base_uri": "https://localhost:8080/"
        },
        "id": "V96dU3R1fxLT",
        "outputId": "9584c3e4-0ad5-4171-907b-07e040ba2699"
      },
      "execution_count": 144,
      "outputs": [
        {
          "output_type": "stream",
          "name": "stdout",
          "text": [
            "<class 'pandas.core.frame.DataFrame'>\n",
            "RangeIndex: 87 entries, 0 to 86\n",
            "Data columns (total 18 columns):\n",
            " #   Column                Non-Null Count  Dtype  \n",
            "---  ------                --------------  -----  \n",
            " 0   director_name         87 non-null     object \n",
            " 1   duration              87 non-null     float64\n",
            " 2   gross                 87 non-null     float64\n",
            " 3   movie_title           87 non-null     object \n",
            " 4   title_year            87 non-null     int64  \n",
            " 5   country               87 non-null     object \n",
            " 6   budget                87 non-null     float64\n",
            " 7   imdb_score            87 non-null     float64\n",
            " 8   actors                87 non-null     object \n",
            " 9   movie_facebook_likes  87 non-null     int64  \n",
            " 10  genre_0               87 non-null     object \n",
            " 11  genre_1               81 non-null     object \n",
            " 12  genre_2               62 non-null     object \n",
            " 13  genre_3               22 non-null     object \n",
            " 14  genre_4               6 non-null      object \n",
            " 15  actor_0               87 non-null     object \n",
            " 16  actor_1               87 non-null     object \n",
            " 17  actor_2               87 non-null     object \n",
            "dtypes: float64(4), int64(2), object(12)\n",
            "memory usage: 12.4+ KB\n"
          ]
        }
      ]
    }
  ],
  "metadata": {
    "colab": {
      "provenance": [],
      "mount_file_id": "1RemO8mjFcqx-oORZsxXL8Dw9OSEjUcsP",
      "authorship_tag": "ABX9TyMYbg5TVKYvaE6HG0pKQu43",
      "include_colab_link": true
    },
    "kernelspec": {
      "display_name": "Python 3",
      "name": "python3"
    },
    "language_info": {
      "name": "python"
    }
  },
  "nbformat": 4,
  "nbformat_minor": 0
}